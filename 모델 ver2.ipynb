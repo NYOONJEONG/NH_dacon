{
 "cells": [
  {
   "cell_type": "code",
   "execution_count": 1,
   "id": "daa8c559-b960-45b7-9c0e-bda0911adb9a",
   "metadata": {},
   "outputs": [],
   "source": [
    "import numpy as np\n",
    "import pandas as pd\n",
    "from pandas import DataFrame\n",
    "from pandas import Series\n",
    "import seaborn as sns\n",
    "from tqdm import tqdm\n",
    "import matplotlib.pyplot as plt\n",
    "import matplotlib.font_manager as fm\n",
    "font_path = 'AppleGothic.ttf'\n",
    "fontprop = fm.FontProperties(fname=font_path, size=18)\n",
    "font_name = fm.FontProperties(fname=font_path).get_name()\n",
    "import warnings\n",
    "warnings.filterwarnings(action='ignore')"
   ]
  },
  {
   "cell_type": "markdown",
   "id": "cd7ce9bb-9bba-4e9d-a148-5b5e436c28f8",
   "metadata": {},
   "source": [
    "# 가중치 조금 다르게"
   ]
  },
  {
   "cell_type": "code",
   "execution_count": 2,
   "id": "24a09539-6282-415f-aa35-ff2b5168a92a",
   "metadata": {},
   "outputs": [],
   "source": [
    "# 고객 및 주거래계좌 정보(CUS_INFO.CSV)\n",
    "cus= pd.read_csv('cus_info_new.csv')\n",
    "\n",
    "# 종목정보(IEM_INFO.CSV)\n",
    "iem= pd.read_csv('iem_info_20210902.csv')\n",
    "\n",
    "# 국내주식 잔고이력(STK_BNC_HIST.CSV) _ 잔고정보 (국내 주식건에 한해) <- 여기세 종목 정보 들어있음\n",
    "hist = pd.read_csv('stk_bnc_hist.csv', encoding='cp949')\n",
    "\n",
    "# 국내주식 보유기간(STK_HLD_.CSV)\n",
    "train = pd.read_csv('train_0926.csv', encoding='cp949')\n",
    "test= pd.read_csv('test_0926.csv', encoding='cp949')\n",
    "\n",
    "# submission file\n",
    "submission = pd.read_csv('sample_submission.csv', encoding='cp949')"
   ]
  },
  {
   "cell_type": "code",
   "execution_count": 3,
   "id": "8c552270-f985-4bfb-aace-e0f96358f931",
   "metadata": {},
   "outputs": [],
   "source": [
    "cus.columns=[\"계좌 ID\",\"성별\",\"연령대\",\"투자성향\",\"자산구간\",\"주거래상품군\",\"Life Style\",\"서비스 등급\",\"총 투자기간\",\"주거래업종구분\"]\n",
    "iem.columns= [\"종목코드\",\"종목한글명\",\"종목업종\", \"시가총액 규모유형\",\"시장구분\"]\n",
    "hist.columns= [\"계좌 ID\",\"기준일자\",\"종목코드\",\"잔고수량\",\"잔고금액\",\"주당 액면가\"]"
   ]
  },
  {
   "cell_type": "code",
   "execution_count": 4,
   "id": "dd828c43-0e61-49e9-887b-537b7153dc9f",
   "metadata": {},
   "outputs": [],
   "source": [
    "hist['기준일자'] = hist['기준일자'].astype('str')\n",
    "hist['기준일자'] = hist['기준일자'].apply(lambda x: str(x[0:4]) + '-' + str(x[4:6]) + '-'+ str(x[6:8]))"
   ]
  },
  {
   "cell_type": "code",
   "execution_count": 5,
   "id": "fe65b1c1-92e0-4978-a540-7d3676f2f0c4",
   "metadata": {},
   "outputs": [],
   "source": [
    "train['year']= train['매수일자'].apply(lambda x: x[0:4])"
   ]
  },
  {
   "cell_type": "code",
   "execution_count": 6,
   "id": "5fb1a870-0650-45a9-9471-5f8338a12202",
   "metadata": {},
   "outputs": [],
   "source": [
    "train_2016 = train[train['year']=='2016'].copy()\n",
    "train_2016['과거 보유일'] = train_2016['보유기간(일)']*0.6\n",
    "\n",
    "train_2017 = train[train['year']=='2017'].copy()\n",
    "train_2017['과거 보유일'] = train_2017['보유기간(일)']*0.65\n",
    "\n",
    "train_2018 = train[train['year']=='2018'].copy()\n",
    "train_2018['과거 보유일'] = train_2018['보유기간(일)']*0.7\n",
    "\n",
    "train_2019 = train[train['year']=='2019'].copy()\n",
    "train_2019['과거 보유일'] = train_2019['보유기간(일)']*0.75\n",
    "\n",
    "train_2020 = train[train['year']=='2020'].copy()\n",
    "train_2020['과거 보유일'] = train_2020['보유기간(일)']*0.8\n",
    "\n",
    "train_year =pd.concat([train_2016,train_2017,train_2018,train_2019,train_2020], ignore_index=True)\n",
    "train_year[\"과거 보유일\"] = np.trunc(train_year[\"과거 보유일\"])\n",
    "train_year = train_year.drop('year', axis=1, inplace=False)"
   ]
  },
  {
   "cell_type": "code",
   "execution_count": 9,
   "id": "58949970-d57f-49e3-87c6-cd4a723e7d9e",
   "metadata": {},
   "outputs": [
    {
     "data": {
      "text/html": [
       "<div>\n",
       "<style scoped>\n",
       "    .dataframe tbody tr th:only-of-type {\n",
       "        vertical-align: middle;\n",
       "    }\n",
       "\n",
       "    .dataframe tbody tr th {\n",
       "        vertical-align: top;\n",
       "    }\n",
       "\n",
       "    .dataframe thead th {\n",
       "        text-align: right;\n",
       "    }\n",
       "</style>\n",
       "<table border=\"1\" class=\"dataframe\">\n",
       "  <thead>\n",
       "    <tr style=\"text-align: right;\">\n",
       "      <th></th>\n",
       "      <th>계좌 ID</th>\n",
       "      <th>종목코드</th>\n",
       "      <th>매수일자</th>\n",
       "      <th>보유기간(일)</th>\n",
       "      <th>oil_3_0.8</th>\n",
       "      <th>copper_3_0.8</th>\n",
       "      <th>base_3_0.8</th>\n",
       "      <th>exchange_3_0.8</th>\n",
       "      <th>Rank</th>\n",
       "      <th>과거 보유일</th>\n",
       "      <th>...</th>\n",
       "      <th>자산구간</th>\n",
       "      <th>주거래상품군</th>\n",
       "      <th>Life Style</th>\n",
       "      <th>서비스 등급</th>\n",
       "      <th>총 투자기간</th>\n",
       "      <th>주거래업종구분</th>\n",
       "      <th>종목한글명</th>\n",
       "      <th>종목업종</th>\n",
       "      <th>시가총액 규모유형</th>\n",
       "      <th>시장구분</th>\n",
       "    </tr>\n",
       "  </thead>\n",
       "  <tbody>\n",
       "    <tr>\n",
       "      <th>0</th>\n",
       "      <td>0ad104dbed99be0cd858aa772765ddedade554601a981b...</td>\n",
       "      <td>A211270</td>\n",
       "      <td>2016-03-28</td>\n",
       "      <td>40</td>\n",
       "      <td>39.59</td>\n",
       "      <td>5043.41</td>\n",
       "      <td>1.5</td>\n",
       "      <td>1165.47</td>\n",
       "      <td>938.0</td>\n",
       "      <td>24.0</td>\n",
       "      <td>...</td>\n",
       "      <td>2</td>\n",
       "      <td>2</td>\n",
       "      <td>9</td>\n",
       "      <td>5</td>\n",
       "      <td>5</td>\n",
       "      <td>8</td>\n",
       "      <td>AP위성</td>\n",
       "      <td>13</td>\n",
       "      <td>3</td>\n",
       "      <td>99</td>\n",
       "    </tr>\n",
       "    <tr>\n",
       "      <th>1</th>\n",
       "      <td>f431b2a7651bccfc7ce8f294fdacdf0b7b31db734be701...</td>\n",
       "      <td>A011170</td>\n",
       "      <td>2016-03-28</td>\n",
       "      <td>71</td>\n",
       "      <td>39.59</td>\n",
       "      <td>5043.41</td>\n",
       "      <td>1.5</td>\n",
       "      <td>1165.47</td>\n",
       "      <td>26.0</td>\n",
       "      <td>42.0</td>\n",
       "      <td>...</td>\n",
       "      <td>5</td>\n",
       "      <td>2</td>\n",
       "      <td>9</td>\n",
       "      <td>3</td>\n",
       "      <td>6</td>\n",
       "      <td>15</td>\n",
       "      <td>롯데케미칼</td>\n",
       "      <td>12</td>\n",
       "      <td>1</td>\n",
       "      <td>1</td>\n",
       "    </tr>\n",
       "  </tbody>\n",
       "</table>\n",
       "<p>2 rows × 23 columns</p>\n",
       "</div>"
      ],
      "text/plain": [
       "                                               계좌 ID     종목코드        매수일자  \\\n",
       "0  0ad104dbed99be0cd858aa772765ddedade554601a981b...  A211270  2016-03-28   \n",
       "1  f431b2a7651bccfc7ce8f294fdacdf0b7b31db734be701...  A011170  2016-03-28   \n",
       "\n",
       "   보유기간(일)  oil_3_0.8  copper_3_0.8  base_3_0.8  exchange_3_0.8   Rank  \\\n",
       "0       40      39.59       5043.41         1.5         1165.47  938.0   \n",
       "1       71      39.59       5043.41         1.5         1165.47   26.0   \n",
       "\n",
       "   과거 보유일  ...  자산구간  주거래상품군  Life Style  서비스 등급  총 투자기간  주거래업종구분  종목한글명  \\\n",
       "0    24.0  ...     2       2           9       5       5        8   AP위성   \n",
       "1    42.0  ...     5       2           9       3       6       15  롯데케미칼   \n",
       "\n",
       "   종목업종  시가총액 규모유형 시장구분  \n",
       "0    13          3   99  \n",
       "1    12          1    1  \n",
       "\n",
       "[2 rows x 23 columns]"
      ]
     },
     "execution_count": 9,
     "metadata": {},
     "output_type": "execute_result"
    }
   ],
   "source": [
    "train_data.head(2)"
   ]
  },
  {
   "cell_type": "code",
   "execution_count": 8,
   "id": "7d6b67e9-52e0-4089-8fa6-824902053293",
   "metadata": {},
   "outputs": [],
   "source": [
    "# train과 test에 고객정보(cus_info)와 주식정보(iem_info)를 추가하겠습니다.\n",
    "\n",
    "train_data = pd.merge(train_year, cus, how = \"left\", on = [\"계좌 ID\"])\n",
    "train_data = pd.merge(train_data, iem, how = \"left\", on = [\"종목코드\"])\n",
    "\n",
    "test_data = pd.merge(test, cus, how = \"left\", on = [\"계좌 ID\"])\n",
    "test_data = pd.merge(test_data, iem, how = \"left\", on = [\"종목코드\"])"
   ]
  },
  {
   "cell_type": "code",
   "execution_count": 10,
   "id": "0c28fe98-6de3-4413-9571-9cdc5afe6609",
   "metadata": {},
   "outputs": [],
   "source": [
    "# train_data에서 Y값을 추출한 후 hold_d column을 지워주겠습니다.\n",
    "\n",
    "train_label = train_data[\"보유기간(일)\"]\n",
    "train_data.drop([\"보유기간(일)\"], axis = 1, inplace = True)"
   ]
  },
  {
   "cell_type": "code",
   "execution_count": 11,
   "id": "51e4de2a-88d2-417e-9996-8fb4c99d6c0c",
   "metadata": {},
   "outputs": [],
   "source": [
    "# 추가적으로 약간의 전처리를 통해 train data와 test data를 구성하겠습니다.\n",
    "\n",
    "hist[\"stk_p\"] = hist[\"잔고금액\"] / hist[\"잔고수량\"]\n",
    "hist = hist.fillna(0)\n",
    "\n",
    "train_data = pd.merge(train_data, hist, how = \"left\", on = [\"계좌 ID\", \"종목코드\"])\n",
    "train_data = train_data[(train_data[\"매수일자\"] == train_data[\"기준일자\"])]\n",
    "train_data.reset_index(drop = True, inplace = True)\n",
    "\n",
    "test_data = pd.merge(test_data, hist, how = \"left\", on = [\"계좌 ID\", \"종목코드\"])\n",
    "test_data = test_data[(test_data[\"매수일자\"] == test_data[\"기준일자\"])]\n",
    "test_data.reset_index(drop = True, inplace = True)\n",
    "\n",
    "train_data = train_data.drop([\"계좌 ID\", \"종목코드\", \"매수일자\", \"기준일자\"], axis = 1)\n",
    "test_data = test_data.drop([\"계좌 ID\", \"종목코드\", \"매수일자\", \"제출ID\",\"보유기간(일)\", \"기준일자\"], axis = 1)\n",
    "\n",
    "from sklearn.preprocessing import LabelEncoder\n",
    "L_encoder = LabelEncoder()\n",
    "L_encoder.fit(iem[\"종목한글명\"])\n",
    "train_data[\"종목한글명\"] = L_encoder.transform(train_data[\"종목한글명\"])\n",
    "test_data[\"종목한글명\"] = L_encoder.transform(test_data[\"종목한글명\"])"
   ]
  },
  {
   "cell_type": "code",
   "execution_count": 12,
   "id": "0ce20845-f92f-413a-984a-484de5bbc246",
   "metadata": {},
   "outputs": [],
   "source": [
    "train_data.reset_index(drop = True, inplace=True)\n",
    "train_label.reset_index(drop = True, inplace=True)"
   ]
  },
  {
   "cell_type": "code",
   "execution_count": 13,
   "id": "362a5d71-9c93-4e97-98a8-87555a6eb42e",
   "metadata": {},
   "outputs": [],
   "source": [
    "from sklearn.metrics import mean_squared_error as mse\n",
    "from sklearn.model_selection import train_test_split, StratifiedKFold, KFold\n",
    "from lightgbm import LGBMRegressor"
   ]
  },
  {
   "cell_type": "code",
   "execution_count": 14,
   "id": "08374430-dc03-48fd-a90e-c989d66ef678",
   "metadata": {},
   "outputs": [
    {
     "name": "stdout",
     "output_type": "stream",
     "text": [
      "Training until validation scores don't improve for 300 rounds\n"
     ]
    },
    {
     "ename": "KeyboardInterrupt",
     "evalue": "",
     "output_type": "error",
     "traceback": [
      "\u001b[0;31m---------------------------------------------------------------------------\u001b[0m",
      "\u001b[0;31mKeyboardInterrupt\u001b[0m                         Traceback (most recent call last)",
      "\u001b[0;32m<ipython-input-14-3f8c014146b1>\u001b[0m in \u001b[0;36m<module>\u001b[0;34m\u001b[0m\n\u001b[1;32m     19\u001b[0m               \u001b[0meval_metric\u001b[0m\u001b[0;34m=\u001b[0m\u001b[0;34m[\u001b[0m\u001b[0;34m\"rmse\"\u001b[0m\u001b[0;34m]\u001b[0m\u001b[0;34m,\u001b[0m\u001b[0;34m\u001b[0m\u001b[0;34m\u001b[0m\u001b[0m\n\u001b[1;32m     20\u001b[0m               \u001b[0mearly_stopping_rounds\u001b[0m\u001b[0;34m=\u001b[0m\u001b[0;36m300\u001b[0m\u001b[0;34m,\u001b[0m\u001b[0;34m\u001b[0m\u001b[0;34m\u001b[0m\u001b[0m\n\u001b[0;32m---> 21\u001b[0;31m               verbose=500)\n\u001b[0m\u001b[1;32m     22\u001b[0m \u001b[0;34m\u001b[0m\u001b[0m\n\u001b[1;32m     23\u001b[0m     \u001b[0mmodels\u001b[0m\u001b[0;34m.\u001b[0m\u001b[0mappend\u001b[0m\u001b[0;34m(\u001b[0m\u001b[0mmodel\u001b[0m\u001b[0;34m)\u001b[0m\u001b[0;34m\u001b[0m\u001b[0;34m\u001b[0m\u001b[0m\n",
      "\u001b[0;32m~/anaconda3/lib/python3.6/site-packages/lightgbm/sklearn.py\u001b[0m in \u001b[0;36mfit\u001b[0;34m(self, X, y, sample_weight, init_score, eval_set, eval_names, eval_sample_weight, eval_init_score, eval_metric, early_stopping_rounds, verbose, feature_name, categorical_feature, callbacks, init_model)\u001b[0m\n\u001b[1;32m    820\u001b[0m                     \u001b[0meval_init_score\u001b[0m\u001b[0;34m=\u001b[0m\u001b[0meval_init_score\u001b[0m\u001b[0;34m,\u001b[0m \u001b[0meval_metric\u001b[0m\u001b[0;34m=\u001b[0m\u001b[0meval_metric\u001b[0m\u001b[0;34m,\u001b[0m\u001b[0;34m\u001b[0m\u001b[0;34m\u001b[0m\u001b[0m\n\u001b[1;32m    821\u001b[0m                     \u001b[0mearly_stopping_rounds\u001b[0m\u001b[0;34m=\u001b[0m\u001b[0mearly_stopping_rounds\u001b[0m\u001b[0;34m,\u001b[0m \u001b[0mverbose\u001b[0m\u001b[0;34m=\u001b[0m\u001b[0mverbose\u001b[0m\u001b[0;34m,\u001b[0m \u001b[0mfeature_name\u001b[0m\u001b[0;34m=\u001b[0m\u001b[0mfeature_name\u001b[0m\u001b[0;34m,\u001b[0m\u001b[0;34m\u001b[0m\u001b[0;34m\u001b[0m\u001b[0m\n\u001b[0;32m--> 822\u001b[0;31m                     categorical_feature=categorical_feature, callbacks=callbacks, init_model=init_model)\n\u001b[0m\u001b[1;32m    823\u001b[0m         \u001b[0;32mreturn\u001b[0m \u001b[0mself\u001b[0m\u001b[0;34m\u001b[0m\u001b[0;34m\u001b[0m\u001b[0m\n\u001b[1;32m    824\u001b[0m \u001b[0;34m\u001b[0m\u001b[0m\n",
      "\u001b[0;32m~/anaconda3/lib/python3.6/site-packages/lightgbm/sklearn.py\u001b[0m in \u001b[0;36mfit\u001b[0;34m(self, X, y, sample_weight, init_score, group, eval_set, eval_names, eval_sample_weight, eval_class_weight, eval_init_score, eval_group, eval_metric, early_stopping_rounds, verbose, feature_name, categorical_feature, callbacks, init_model)\u001b[0m\n\u001b[1;32m    686\u001b[0m                               \u001b[0mevals_result\u001b[0m\u001b[0;34m=\u001b[0m\u001b[0mevals_result\u001b[0m\u001b[0;34m,\u001b[0m \u001b[0mfobj\u001b[0m\u001b[0;34m=\u001b[0m\u001b[0mself\u001b[0m\u001b[0;34m.\u001b[0m\u001b[0m_fobj\u001b[0m\u001b[0;34m,\u001b[0m \u001b[0mfeval\u001b[0m\u001b[0;34m=\u001b[0m\u001b[0meval_metrics_callable\u001b[0m\u001b[0;34m,\u001b[0m\u001b[0;34m\u001b[0m\u001b[0;34m\u001b[0m\u001b[0m\n\u001b[1;32m    687\u001b[0m                               \u001b[0mverbose_eval\u001b[0m\u001b[0;34m=\u001b[0m\u001b[0mverbose\u001b[0m\u001b[0;34m,\u001b[0m \u001b[0mfeature_name\u001b[0m\u001b[0;34m=\u001b[0m\u001b[0mfeature_name\u001b[0m\u001b[0;34m,\u001b[0m\u001b[0;34m\u001b[0m\u001b[0;34m\u001b[0m\u001b[0m\n\u001b[0;32m--> 688\u001b[0;31m                               callbacks=callbacks, init_model=init_model)\n\u001b[0m\u001b[1;32m    689\u001b[0m \u001b[0;34m\u001b[0m\u001b[0m\n\u001b[1;32m    690\u001b[0m         \u001b[0;32mif\u001b[0m \u001b[0mevals_result\u001b[0m\u001b[0;34m:\u001b[0m\u001b[0;34m\u001b[0m\u001b[0;34m\u001b[0m\u001b[0m\n",
      "\u001b[0;32m~/anaconda3/lib/python3.6/site-packages/lightgbm/engine.py\u001b[0m in \u001b[0;36mtrain\u001b[0;34m(params, train_set, num_boost_round, valid_sets, valid_names, fobj, feval, init_model, feature_name, categorical_feature, early_stopping_rounds, evals_result, verbose_eval, learning_rates, keep_training_booster, callbacks)\u001b[0m\n\u001b[1;32m    247\u001b[0m                                     evaluation_result_list=None))\n\u001b[1;32m    248\u001b[0m \u001b[0;34m\u001b[0m\u001b[0m\n\u001b[0;32m--> 249\u001b[0;31m         \u001b[0mbooster\u001b[0m\u001b[0;34m.\u001b[0m\u001b[0mupdate\u001b[0m\u001b[0;34m(\u001b[0m\u001b[0mfobj\u001b[0m\u001b[0;34m=\u001b[0m\u001b[0mfobj\u001b[0m\u001b[0;34m)\u001b[0m\u001b[0;34m\u001b[0m\u001b[0;34m\u001b[0m\u001b[0m\n\u001b[0m\u001b[1;32m    250\u001b[0m \u001b[0;34m\u001b[0m\u001b[0m\n\u001b[1;32m    251\u001b[0m         \u001b[0mevaluation_result_list\u001b[0m \u001b[0;34m=\u001b[0m \u001b[0;34m[\u001b[0m\u001b[0;34m]\u001b[0m\u001b[0;34m\u001b[0m\u001b[0;34m\u001b[0m\u001b[0m\n",
      "\u001b[0;32m~/anaconda3/lib/python3.6/site-packages/lightgbm/basic.py\u001b[0m in \u001b[0;36mupdate\u001b[0;34m(self, train_set, fobj)\u001b[0m\n\u001b[1;32m   2643\u001b[0m             _safe_call(_LIB.LGBM_BoosterUpdateOneIter(\n\u001b[1;32m   2644\u001b[0m                 \u001b[0mself\u001b[0m\u001b[0;34m.\u001b[0m\u001b[0mhandle\u001b[0m\u001b[0;34m,\u001b[0m\u001b[0;34m\u001b[0m\u001b[0;34m\u001b[0m\u001b[0m\n\u001b[0;32m-> 2645\u001b[0;31m                 ctypes.byref(is_finished)))\n\u001b[0m\u001b[1;32m   2646\u001b[0m             \u001b[0mself\u001b[0m\u001b[0;34m.\u001b[0m\u001b[0m__is_predicted_cur_iter\u001b[0m \u001b[0;34m=\u001b[0m \u001b[0;34m[\u001b[0m\u001b[0;32mFalse\u001b[0m \u001b[0;32mfor\u001b[0m \u001b[0m_\u001b[0m \u001b[0;32min\u001b[0m \u001b[0mrange\u001b[0m\u001b[0;34m(\u001b[0m\u001b[0mself\u001b[0m\u001b[0;34m.\u001b[0m\u001b[0m__num_dataset\u001b[0m\u001b[0;34m)\u001b[0m\u001b[0;34m]\u001b[0m\u001b[0;34m\u001b[0m\u001b[0;34m\u001b[0m\u001b[0m\n\u001b[1;32m   2647\u001b[0m             \u001b[0;32mreturn\u001b[0m \u001b[0mis_finished\u001b[0m\u001b[0;34m.\u001b[0m\u001b[0mvalue\u001b[0m \u001b[0;34m==\u001b[0m \u001b[0;36m1\u001b[0m\u001b[0;34m\u001b[0m\u001b[0;34m\u001b[0m\u001b[0m\n",
      "\u001b[0;31mKeyboardInterrupt\u001b[0m: "
     ]
    }
   ],
   "source": [
    "models = []\n",
    "\n",
    "folds = KFold(n_splits=10)\n",
    "for train_idx, val_idx in folds.split(train_data):\n",
    "    \n",
    "    train_x = train_data.iloc[train_idx, :]\n",
    "    train_y = train_label[train_idx]\n",
    "    val_x = train_data.iloc[val_idx, :]\n",
    "    val_y = train_label[val_idx]\n",
    "    \n",
    "    model = LGBMRegressor(objective= \"regression\",\n",
    "                          max_depth= 5,\n",
    "                          n_estimators= 2000,\n",
    "                          learning_rate= 0.01,\n",
    "                          num_leaves = 31)\n",
    "    \n",
    "    model.fit(train_x, train_y,\n",
    "              eval_set=[(val_x, val_y)],\n",
    "              eval_metric=[\"rmse\"],\n",
    "              early_stopping_rounds=300,\n",
    "              verbose=500)\n",
    "    \n",
    "    models.append(model)"
   ]
  },
  {
   "cell_type": "code",
   "execution_count": null,
   "id": "32d6cf7c-8b29-4594-a571-e9d39e366e59",
   "metadata": {},
   "outputs": [],
   "source": [
    "result = []\n",
    "for i in models:\n",
    "    result.append(i.predict(test_data))\n",
    "predict = np.mean(result, axis = 0)"
   ]
  },
  {
   "cell_type": "code",
   "execution_count": null,
   "id": "009955df-27ee-4509-9abc-259171e1b3ad",
   "metadata": {},
   "outputs": [],
   "source": [
    "predict"
   ]
  },
  {
   "cell_type": "code",
   "execution_count": 607,
   "id": "8fa75844-5d50-4d58-9c39-8a66f09fe70a",
   "metadata": {},
   "outputs": [],
   "source": [
    "submission = pd.read_csv(\"sample_submission.csv\", encoding='cp949')"
   ]
  },
  {
   "cell_type": "code",
   "execution_count": 608,
   "id": "aa4bb6a6-7d5b-458c-bfab-a5f55efb2459",
   "metadata": {},
   "outputs": [],
   "source": [
    "submission[\"hold_d\"] = np.round(predict)"
   ]
  },
  {
   "cell_type": "code",
   "execution_count": 609,
   "id": "2b67cbe2-a319-4e92-915b-ac346b799d08",
   "metadata": {},
   "outputs": [],
   "source": [
    "submission.columns=[\"제출ID\",\"보유기간(일)\"]"
   ]
  },
  {
   "cell_type": "code",
   "execution_count": 610,
   "id": "316b078f-8284-41bb-ad87-d6dff9ad45b4",
   "metadata": {},
   "outputs": [],
   "source": [
    "sub = pd.merge(submission, test[['제출ID','과거 보유일']], on=['제출ID'])\n",
    "sub['차이']= sub['보유기간(일)']-sub['과거 보유일']"
   ]
  },
  {
   "cell_type": "code",
   "execution_count": 611,
   "id": "f21f6666-bc53-4a18-b195-9216f468c05b",
   "metadata": {},
   "outputs": [],
   "source": [
    "def change(x):\n",
    "        if x< 0 : return 0\n",
    "        elif x>146 : return 146\n",
    "        else: return x"
   ]
  },
  {
   "cell_type": "code",
   "execution_count": 612,
   "id": "bb9f5378-4be4-42e0-8570-217b16024e40",
   "metadata": {},
   "outputs": [],
   "source": [
    "sub[\"보정\"] = sub[\"차이\"].apply(change)\n",
    "sub['hold_d'] = sub['보정']+sub['과거 보유일']\n",
    "sub =sub.rename(columns={'제출ID':'submit_id'})\n",
    "submission = sub[['submit_id','hold_d']]"
   ]
  },
  {
   "cell_type": "code",
   "execution_count": 615,
   "id": "bcd8f0d9-858e-4ff0-8ed0-92331062f016",
   "metadata": {},
   "outputs": [
    {
     "data": {
      "text/html": [
       "<div>\n",
       "<style scoped>\n",
       "    .dataframe tbody tr th:only-of-type {\n",
       "        vertical-align: middle;\n",
       "    }\n",
       "\n",
       "    .dataframe tbody tr th {\n",
       "        vertical-align: top;\n",
       "    }\n",
       "\n",
       "    .dataframe thead th {\n",
       "        text-align: right;\n",
       "    }\n",
       "</style>\n",
       "<table border=\"1\" class=\"dataframe\">\n",
       "  <thead>\n",
       "    <tr style=\"text-align: right;\">\n",
       "      <th></th>\n",
       "      <th>submit_id</th>\n",
       "      <th>보유기간(일)</th>\n",
       "      <th>과거 보유일</th>\n",
       "      <th>차이</th>\n",
       "      <th>보정</th>\n",
       "      <th>hold_d</th>\n",
       "    </tr>\n",
       "  </thead>\n",
       "  <tbody>\n",
       "    <tr>\n",
       "      <th>0</th>\n",
       "      <td>IDX00001</td>\n",
       "      <td>64.0</td>\n",
       "      <td>153</td>\n",
       "      <td>-89.0</td>\n",
       "      <td>0.0</td>\n",
       "      <td>153.0</td>\n",
       "    </tr>\n",
       "    <tr>\n",
       "      <th>1</th>\n",
       "      <td>IDX00002</td>\n",
       "      <td>332.0</td>\n",
       "      <td>335</td>\n",
       "      <td>-3.0</td>\n",
       "      <td>0.0</td>\n",
       "      <td>335.0</td>\n",
       "    </tr>\n",
       "    <tr>\n",
       "      <th>2</th>\n",
       "      <td>IDX00003</td>\n",
       "      <td>901.0</td>\n",
       "      <td>139</td>\n",
       "      <td>762.0</td>\n",
       "      <td>146.0</td>\n",
       "      <td>285.0</td>\n",
       "    </tr>\n",
       "    <tr>\n",
       "      <th>3</th>\n",
       "      <td>IDX00004</td>\n",
       "      <td>901.0</td>\n",
       "      <td>236</td>\n",
       "      <td>665.0</td>\n",
       "      <td>146.0</td>\n",
       "      <td>382.0</td>\n",
       "    </tr>\n",
       "    <tr>\n",
       "      <th>4</th>\n",
       "      <td>IDX00005</td>\n",
       "      <td>901.0</td>\n",
       "      <td>9</td>\n",
       "      <td>892.0</td>\n",
       "      <td>146.0</td>\n",
       "      <td>155.0</td>\n",
       "    </tr>\n",
       "    <tr>\n",
       "      <th>...</th>\n",
       "      <td>...</td>\n",
       "      <td>...</td>\n",
       "      <td>...</td>\n",
       "      <td>...</td>\n",
       "      <td>...</td>\n",
       "      <td>...</td>\n",
       "    </tr>\n",
       "    <tr>\n",
       "      <th>70591</th>\n",
       "      <td>IDX70592</td>\n",
       "      <td>2.0</td>\n",
       "      <td>23</td>\n",
       "      <td>-21.0</td>\n",
       "      <td>0.0</td>\n",
       "      <td>23.0</td>\n",
       "    </tr>\n",
       "    <tr>\n",
       "      <th>70592</th>\n",
       "      <td>IDX70593</td>\n",
       "      <td>941.0</td>\n",
       "      <td>103</td>\n",
       "      <td>838.0</td>\n",
       "      <td>146.0</td>\n",
       "      <td>249.0</td>\n",
       "    </tr>\n",
       "    <tr>\n",
       "      <th>70593</th>\n",
       "      <td>IDX70594</td>\n",
       "      <td>932.0</td>\n",
       "      <td>858</td>\n",
       "      <td>74.0</td>\n",
       "      <td>74.0</td>\n",
       "      <td>932.0</td>\n",
       "    </tr>\n",
       "    <tr>\n",
       "      <th>70594</th>\n",
       "      <td>IDX70595</td>\n",
       "      <td>196.0</td>\n",
       "      <td>11</td>\n",
       "      <td>185.0</td>\n",
       "      <td>146.0</td>\n",
       "      <td>157.0</td>\n",
       "    </tr>\n",
       "    <tr>\n",
       "      <th>70595</th>\n",
       "      <td>IDX70596</td>\n",
       "      <td>916.0</td>\n",
       "      <td>4</td>\n",
       "      <td>912.0</td>\n",
       "      <td>146.0</td>\n",
       "      <td>150.0</td>\n",
       "    </tr>\n",
       "  </tbody>\n",
       "</table>\n",
       "<p>70596 rows × 6 columns</p>\n",
       "</div>"
      ],
      "text/plain": [
       "      submit_id  보유기간(일)  과거 보유일     차이     보정  hold_d\n",
       "0      IDX00001     64.0     153  -89.0    0.0   153.0\n",
       "1      IDX00002    332.0     335   -3.0    0.0   335.0\n",
       "2      IDX00003    901.0     139  762.0  146.0   285.0\n",
       "3      IDX00004    901.0     236  665.0  146.0   382.0\n",
       "4      IDX00005    901.0       9  892.0  146.0   155.0\n",
       "...         ...      ...     ...    ...    ...     ...\n",
       "70591  IDX70592      2.0      23  -21.0    0.0    23.0\n",
       "70592  IDX70593    941.0     103  838.0  146.0   249.0\n",
       "70593  IDX70594    932.0     858   74.0   74.0   932.0\n",
       "70594  IDX70595    196.0      11  185.0  146.0   157.0\n",
       "70595  IDX70596    916.0       4  912.0  146.0   150.0\n",
       "\n",
       "[70596 rows x 6 columns]"
      ]
     },
     "execution_count": 615,
     "metadata": {},
     "output_type": "execute_result"
    }
   ],
   "source": [
    "sub"
   ]
  },
  {
   "cell_type": "code",
   "execution_count": 613,
   "id": "891da1ab-5d56-487d-8e8c-a4594a06353b",
   "metadata": {},
   "outputs": [
    {
     "data": {
      "text/html": [
       "<div>\n",
       "<style scoped>\n",
       "    .dataframe tbody tr th:only-of-type {\n",
       "        vertical-align: middle;\n",
       "    }\n",
       "\n",
       "    .dataframe tbody tr th {\n",
       "        vertical-align: top;\n",
       "    }\n",
       "\n",
       "    .dataframe thead th {\n",
       "        text-align: right;\n",
       "    }\n",
       "</style>\n",
       "<table border=\"1\" class=\"dataframe\">\n",
       "  <thead>\n",
       "    <tr style=\"text-align: right;\">\n",
       "      <th></th>\n",
       "      <th>submit_id</th>\n",
       "      <th>hold_d</th>\n",
       "    </tr>\n",
       "  </thead>\n",
       "  <tbody>\n",
       "    <tr>\n",
       "      <th>0</th>\n",
       "      <td>IDX00001</td>\n",
       "      <td>153.0</td>\n",
       "    </tr>\n",
       "    <tr>\n",
       "      <th>1</th>\n",
       "      <td>IDX00002</td>\n",
       "      <td>335.0</td>\n",
       "    </tr>\n",
       "    <tr>\n",
       "      <th>2</th>\n",
       "      <td>IDX00003</td>\n",
       "      <td>285.0</td>\n",
       "    </tr>\n",
       "    <tr>\n",
       "      <th>3</th>\n",
       "      <td>IDX00004</td>\n",
       "      <td>382.0</td>\n",
       "    </tr>\n",
       "    <tr>\n",
       "      <th>4</th>\n",
       "      <td>IDX00005</td>\n",
       "      <td>155.0</td>\n",
       "    </tr>\n",
       "    <tr>\n",
       "      <th>...</th>\n",
       "      <td>...</td>\n",
       "      <td>...</td>\n",
       "    </tr>\n",
       "    <tr>\n",
       "      <th>70591</th>\n",
       "      <td>IDX70592</td>\n",
       "      <td>23.0</td>\n",
       "    </tr>\n",
       "    <tr>\n",
       "      <th>70592</th>\n",
       "      <td>IDX70593</td>\n",
       "      <td>249.0</td>\n",
       "    </tr>\n",
       "    <tr>\n",
       "      <th>70593</th>\n",
       "      <td>IDX70594</td>\n",
       "      <td>932.0</td>\n",
       "    </tr>\n",
       "    <tr>\n",
       "      <th>70594</th>\n",
       "      <td>IDX70595</td>\n",
       "      <td>157.0</td>\n",
       "    </tr>\n",
       "    <tr>\n",
       "      <th>70595</th>\n",
       "      <td>IDX70596</td>\n",
       "      <td>150.0</td>\n",
       "    </tr>\n",
       "  </tbody>\n",
       "</table>\n",
       "<p>70596 rows × 2 columns</p>\n",
       "</div>"
      ],
      "text/plain": [
       "      submit_id  hold_d\n",
       "0      IDX00001   153.0\n",
       "1      IDX00002   335.0\n",
       "2      IDX00003   285.0\n",
       "3      IDX00004   382.0\n",
       "4      IDX00005   155.0\n",
       "...         ...     ...\n",
       "70591  IDX70592    23.0\n",
       "70592  IDX70593   249.0\n",
       "70593  IDX70594   932.0\n",
       "70594  IDX70595   157.0\n",
       "70595  IDX70596   150.0\n",
       "\n",
       "[70596 rows x 2 columns]"
      ]
     },
     "execution_count": 613,
     "metadata": {},
     "output_type": "execute_result"
    }
   ],
   "source": [
    "submission"
   ]
  },
  {
   "cell_type": "code",
   "execution_count": 614,
   "id": "6ef73b67-c3fb-4f75-9097-e04c0c077074",
   "metadata": {},
   "outputs": [],
   "source": [
    "submission.to_csv(\"sub15_3_0.6.csv\", header=True, index=False, encoding='cp949')"
   ]
  },
  {
   "cell_type": "code",
   "execution_count": null,
   "id": "57100e53-bb1b-47e9-a2b9-f36720f2162e",
   "metadata": {},
   "outputs": [],
   "source": []
  },
  {
   "cell_type": "markdown",
   "id": "6276f947-2d2b-4850-a2de-5f5725dfa99e",
   "metadata": {},
   "source": [
    "# 모델링"
   ]
  },
  {
   "cell_type": "code",
   "execution_count": 2,
   "id": "5a1e3e9a-a73a-47cf-821a-1942b4bc0120",
   "metadata": {},
   "outputs": [],
   "source": [
    "import numpy as np\n",
    "import pandas as pd\n",
    "from pandas import DataFrame\n",
    "from pandas import Series\n",
    "import seaborn as sns\n",
    "from tqdm import tqdm\n",
    "import matplotlib.pyplot as plt\n",
    "import matplotlib.font_manager as fm\n",
    "font_path = 'AppleGothic.ttf'\n",
    "fontprop = fm.FontProperties(fname=font_path, size=18)\n",
    "font_name = fm.FontProperties(fname=font_path).get_name()\n",
    "import warnings\n",
    "warnings.filterwarnings(action='ignore')"
   ]
  },
  {
   "cell_type": "markdown",
   "id": "2edeee0b-3bc1-4e5a-90fa-b2fc7404d073",
   "metadata": {},
   "source": [
    "## scaling"
   ]
  },
  {
   "cell_type": "code",
   "execution_count": 3,
   "id": "4768977f-d8c0-46e6-bcfb-3fa72f83567d",
   "metadata": {},
   "outputs": [],
   "source": [
    "# 고객 및 주거래계좌 정보(CUS_INFO.CSV)\n",
    "cus= pd.read_csv('cus_info_new.csv')\n",
    "\n",
    "# 종목정보(IEM_INFO.CSV)\n",
    "iem= pd.read_csv('iem_info_20210902.csv')\n",
    "\n",
    "# 국내주식 잔고이력(STK_BNC_HIST.CSV) _ 잔고정보 (국내 주식건에 한해) \n",
    "hist = pd.read_csv('stk_bnc_hist.csv', encoding='cp949')\n",
    "\n",
    "# 국내주식 보유기간(STK_HLD_.CSV)\n",
    "train = pd.read_csv('train_0930.csv', encoding='cp949')\n",
    "test= pd.read_csv('test_0930.csv', encoding='cp949')\n",
    "\n",
    "# submission file\n",
    "submission = pd.read_csv('sample_submission.csv', encoding='cp949')"
   ]
  },
  {
   "cell_type": "code",
   "execution_count": 4,
   "id": "ec654bf0-6c49-4221-959b-4265a9bd0e0a",
   "metadata": {},
   "outputs": [],
   "source": [
    "cus.columns=[\"계좌 ID\",\"성별\",\"연령대\",\"투자성향\",\"자산구간\",\"주거래상품군\",\"Life Style\",\"서비스 등급\",\"총 투자기간\",\"주거래업종구분\"]\n",
    "iem.columns= [\"종목코드\",\"종목한글명\",\"종목업종\", \"시가총액 규모유형\",\"시장구분\"]\n",
    "hist.columns= [\"계좌 ID\",\"기준일자\",\"종목코드\",\"잔고수량\",\"잔고금액\",\"주당 액면가\"]"
   ]
  },
  {
   "cell_type": "code",
   "execution_count": 5,
   "id": "da4c1f56-8763-479d-bc6d-ef5cf595a7ad",
   "metadata": {},
   "outputs": [],
   "source": [
    "hist['기준일자'] = hist['기준일자'].astype('str')\n",
    "hist['기준일자'] = hist['기준일자'].apply(lambda x: str(x[0:4]) + '-' + str(x[4:6]) + '-'+ str(x[6:8]))"
   ]
  },
  {
   "cell_type": "code",
   "execution_count": 6,
   "id": "7db1e66e-0549-4ac4-b628-d7b63ecf19e6",
   "metadata": {},
   "outputs": [],
   "source": [
    "# 앞서 언급한 것처럼 베이스라인에서는 \"hist_d\" column을 임의로 생성하여 모델을 학습시키도록 하겠습니다.\n",
    "# 베이스라인에서는 \"hold_d\"값, 즉 주식 보유기간의 0.6배에 해당하는 기간을 임의로 설정하여 \"hist_d\"를 생성하였습니다.\n",
    "# 결국 모델은 \"hist_d\"만큼 주식을 보유 했을때의 \"hold_d\"를 예측하게 될 것입니다.\n",
    "\n",
    "train[\"과거 보유일\"] = train[\"보유기간(일)\"]*0.6\n",
    "train[\"과거 보유일\"] = np.trunc(train[\"과거 보유일\"])"
   ]
  },
  {
   "cell_type": "code",
   "execution_count": 7,
   "id": "481c8409-00bb-4ca6-b2e0-842b6736ca7f",
   "metadata": {},
   "outputs": [
    {
     "data": {
      "text/html": [
       "<div>\n",
       "<style scoped>\n",
       "    .dataframe tbody tr th:only-of-type {\n",
       "        vertical-align: middle;\n",
       "    }\n",
       "\n",
       "    .dataframe tbody tr th {\n",
       "        vertical-align: top;\n",
       "    }\n",
       "\n",
       "    .dataframe thead th {\n",
       "        text-align: right;\n",
       "    }\n",
       "</style>\n",
       "<table border=\"1\" class=\"dataframe\">\n",
       "  <thead>\n",
       "    <tr style=\"text-align: right;\">\n",
       "      <th></th>\n",
       "      <th>계좌 ID</th>\n",
       "      <th>종목코드</th>\n",
       "      <th>매수일자</th>\n",
       "      <th>보유기간(일)</th>\n",
       "      <th>Rank</th>\n",
       "      <th>국제유가</th>\n",
       "      <th>광물가격</th>\n",
       "      <th>기준금리</th>\n",
       "      <th>환율</th>\n",
       "      <th>과거 보유일</th>\n",
       "    </tr>\n",
       "  </thead>\n",
       "  <tbody>\n",
       "    <tr>\n",
       "      <th>0</th>\n",
       "      <td>0ad104dbed99be0cd858aa772765ddedade554601a981b...</td>\n",
       "      <td>A006360</td>\n",
       "      <td>2018-07-26</td>\n",
       "      <td>11</td>\n",
       "      <td>75.0</td>\n",
       "      <td>0.931182</td>\n",
       "      <td>0.532494</td>\n",
       "      <td>0.8</td>\n",
       "      <td>0.357026</td>\n",
       "      <td>6.0</td>\n",
       "    </tr>\n",
       "    <tr>\n",
       "      <th>1</th>\n",
       "      <td>f431b2a7651bccfc7ce8f294fdacdf0b7b31db734be701...</td>\n",
       "      <td>A023590</td>\n",
       "      <td>2018-07-26</td>\n",
       "      <td>5</td>\n",
       "      <td>201.0</td>\n",
       "      <td>0.931182</td>\n",
       "      <td>0.532494</td>\n",
       "      <td>0.8</td>\n",
       "      <td>0.357026</td>\n",
       "      <td>3.0</td>\n",
       "    </tr>\n",
       "    <tr>\n",
       "      <th>2</th>\n",
       "      <td>43a0eb89f16d3a46767794dda9c31cd15e1ff9daf33332...</td>\n",
       "      <td>A010820</td>\n",
       "      <td>2018-07-26</td>\n",
       "      <td>3</td>\n",
       "      <td>758.0</td>\n",
       "      <td>0.931182</td>\n",
       "      <td>0.532494</td>\n",
       "      <td>0.8</td>\n",
       "      <td>0.357026</td>\n",
       "      <td>1.0</td>\n",
       "    </tr>\n",
       "  </tbody>\n",
       "</table>\n",
       "</div>"
      ],
      "text/plain": [
       "                                               계좌 ID     종목코드        매수일자  \\\n",
       "0  0ad104dbed99be0cd858aa772765ddedade554601a981b...  A006360  2018-07-26   \n",
       "1  f431b2a7651bccfc7ce8f294fdacdf0b7b31db734be701...  A023590  2018-07-26   \n",
       "2  43a0eb89f16d3a46767794dda9c31cd15e1ff9daf33332...  A010820  2018-07-26   \n",
       "\n",
       "   보유기간(일)   Rank      국제유가      광물가격  기준금리        환율  과거 보유일  \n",
       "0       11   75.0  0.931182  0.532494   0.8  0.357026     6.0  \n",
       "1        5  201.0  0.931182  0.532494   0.8  0.357026     3.0  \n",
       "2        3  758.0  0.931182  0.532494   0.8  0.357026     1.0  "
      ]
     },
     "execution_count": 7,
     "metadata": {},
     "output_type": "execute_result"
    }
   ],
   "source": [
    "train.head(3)"
   ]
  },
  {
   "cell_type": "code",
   "execution_count": 8,
   "id": "4ed793f7-a621-4285-8f2a-ffd6e5b8aaf8",
   "metadata": {},
   "outputs": [],
   "source": [
    "# train과 test에 고객정보(cus_info)와 주식정보(iem_info)를 추가하겠습니다.\n",
    "\n",
    "train_data = pd.merge(train, cus, how = \"left\", on = [\"계좌 ID\"])\n",
    "train_data = pd.merge(train_data, iem, how = \"left\", on = [\"종목코드\"])\n",
    "\n",
    "test_data = pd.merge(test, cus, how = \"left\", on = [\"계좌 ID\"])\n",
    "test_data = pd.merge(test_data, iem, how = \"left\", on = [\"종목코드\"])"
   ]
  },
  {
   "cell_type": "code",
   "execution_count": 9,
   "id": "d0d76845-f741-458f-8711-62e4f67412ad",
   "metadata": {},
   "outputs": [],
   "source": [
    "# train_data에서 Y값을 추출한 후 hold_d column을 지워주겠습니다.\n",
    "\n",
    "train_label = train_data[\"보유기간(일)\"]\n",
    "train_data.drop([\"보유기간(일)\"], axis = 1, inplace = True)"
   ]
  },
  {
   "cell_type": "code",
   "execution_count": 10,
   "id": "388b064a-60f7-4766-bc7a-6651de08308e",
   "metadata": {},
   "outputs": [],
   "source": [
    "# 추가적으로 약간의 전처리를 통해 train data와 test data를 구성하겠습니다.\n",
    "\n",
    "hist[\"stk_p\"] = hist[\"잔고금액\"] / hist[\"잔고수량\"]\n",
    "hist = hist.fillna(0)\n",
    "\n",
    "train_data = pd.merge(train_data, hist, how = \"left\", on = [\"계좌 ID\", \"종목코드\"])\n",
    "train_data = train_data[(train_data[\"매수일자\"] == train_data[\"기준일자\"])]\n",
    "train_data.reset_index(drop = True, inplace = True)\n",
    "\n",
    "test_data = pd.merge(test_data, hist, how = \"left\", on = [\"계좌 ID\", \"종목코드\"])\n",
    "test_data = test_data[(test_data[\"매수일자\"] == test_data[\"기준일자\"])]\n",
    "test_data.reset_index(drop = True, inplace = True)\n",
    "\n",
    "train_data = train_data.drop([\"계좌 ID\", \"종목코드\", \"매수일자\", \"기준일자\"], axis = 1)\n",
    "test_data = test_data.drop([\"계좌 ID\", \"종목코드\", \"매수일자\", \"제출ID\",\"보유기간(일)\", \"기준일자\"], axis = 1)\n",
    "\n",
    "from sklearn.preprocessing import LabelEncoder\n",
    "L_encoder = LabelEncoder()\n",
    "L_encoder.fit(iem[\"종목한글명\"])\n",
    "train_data[\"종목한글명\"] = L_encoder.transform(train_data[\"종목한글명\"])\n",
    "test_data[\"종목한글명\"] = L_encoder.transform(test_data[\"종목한글명\"])"
   ]
  },
  {
   "cell_type": "code",
   "execution_count": 12,
   "id": "aa6e8ed8-e1a3-44d8-8022-40a1d3cbacf1",
   "metadata": {},
   "outputs": [],
   "source": [
    "train_data.reset_index(drop = True, inplace=True)\n",
    "train_label.reset_index(drop = True, inplace=True)"
   ]
  },
  {
   "cell_type": "code",
   "execution_count": 13,
   "id": "6c2a8f3b-b5ed-4b38-a723-a58050c3be7c",
   "metadata": {},
   "outputs": [],
   "source": [
    "from sklearn.metrics import mean_squared_error as mse\n",
    "from sklearn.model_selection import train_test_split, StratifiedKFold, KFold\n",
    "from lightgbm import LGBMRegressor"
   ]
  },
  {
   "cell_type": "code",
   "execution_count": null,
   "id": "4e2dae24-2f3b-4be8-b9d6-9fcf96a0b16a",
   "metadata": {},
   "outputs": [
    {
     "name": "stdout",
     "output_type": "stream",
     "text": [
      "Training until validation scores don't improve for 300 rounds\n"
     ]
    }
   ],
   "source": [
    "models = []\n",
    "\n",
    "folds = KFold(n_splits=10)\n",
    "for train_idx, val_idx in folds.split(train_data):\n",
    "    \n",
    "    train_x = train_data.iloc[train_idx, :]\n",
    "    train_y = train_label[train_idx]\n",
    "    val_x = train_data.iloc[val_idx, :]\n",
    "    val_y = train_label[val_idx]\n",
    "    \n",
    "    model = LGBMRegressor(objective= \"regression\",\n",
    "                          max_depth= 5,\n",
    "                          n_estimators= 2000,\n",
    "                          learning_rate= 0.01,\n",
    "                          num_leaves = 31)\n",
    "    \n",
    "    model.fit(train_x, train_y,\n",
    "              eval_set=[(val_x, val_y)],\n",
    "              eval_metric=[\"rmse\"],\n",
    "              early_stopping_rounds=300,\n",
    "              verbose=500)\n",
    "    \n",
    "    models.append(model)"
   ]
  },
  {
   "cell_type": "code",
   "execution_count": null,
   "id": "90c65344-3b1a-42c0-bd42-c316ed708eb6",
   "metadata": {},
   "outputs": [],
   "source": [
    "result = []\n",
    "for i in models:\n",
    "    result.append(i.predict(test_data))\n",
    "predict = np.mean(result, axis = 0)"
   ]
  },
  {
   "cell_type": "code",
   "execution_count": null,
   "id": "bb405688-ab64-4860-8a26-ecdcc49bd83b",
   "metadata": {},
   "outputs": [],
   "source": [
    "predict"
   ]
  },
  {
   "cell_type": "code",
   "execution_count": 487,
   "id": "15a0533b-0eaa-48d3-9811-74c5ea0f4df6",
   "metadata": {},
   "outputs": [],
   "source": [
    "submission = pd.read_csv(\"sample_submission.csv\", encoding='cp949')"
   ]
  },
  {
   "cell_type": "code",
   "execution_count": 478,
   "id": "1e3782fb-33d6-4ae1-b2bb-2e9d7e2b105d",
   "metadata": {},
   "outputs": [],
   "source": [
    "submission[\"hold_d\"] = np.round(predict)"
   ]
  },
  {
   "cell_type": "code",
   "execution_count": 479,
   "id": "eb6ac693-f843-40ec-9d40-bf711b27062b",
   "metadata": {},
   "outputs": [],
   "source": [
    "submission.columns=[\"제출ID\",\"보유기간(일)\"]"
   ]
  },
  {
   "cell_type": "code",
   "execution_count": 481,
   "id": "c51baa59-78ed-4263-b7ff-b0d1a3f76a77",
   "metadata": {},
   "outputs": [],
   "source": [
    "sub = pd.merge(submission, test[['제출ID','과거 보유일']], on=['제출ID'])\n",
    "sub['차이']= sub['보유기간(일)']-sub['과거 보유일']"
   ]
  },
  {
   "cell_type": "code",
   "execution_count": 482,
   "id": "301f8d65-6516-4e87-9e37-953005a6c262",
   "metadata": {},
   "outputs": [],
   "source": [
    "def change(x):\n",
    "        if x< 0 : return 0\n",
    "        elif x>146 : return 146\n",
    "        else: return x"
   ]
  },
  {
   "cell_type": "code",
   "execution_count": 499,
   "id": "a52e231c-edcf-45ba-9bfe-25a3855ea01b",
   "metadata": {},
   "outputs": [],
   "source": [
    "sub[\"보정\"] = sub[\"차이\"].apply(change)\n",
    "sub['hold_d'] = sub['보정']+sub['과거 보유일']\n",
    "sub =sub.rename(columns={'제출ID':'submit_id'})\n",
    "submission = sub[['submit_id','hold_d']]"
   ]
  },
  {
   "cell_type": "code",
   "execution_count": 502,
   "id": "bdeed5f2-a32b-4e98-b8da-12005051daea",
   "metadata": {},
   "outputs": [
    {
     "data": {
      "text/html": [
       "<div>\n",
       "<style scoped>\n",
       "    .dataframe tbody tr th:only-of-type {\n",
       "        vertical-align: middle;\n",
       "    }\n",
       "\n",
       "    .dataframe tbody tr th {\n",
       "        vertical-align: top;\n",
       "    }\n",
       "\n",
       "    .dataframe thead th {\n",
       "        text-align: right;\n",
       "    }\n",
       "</style>\n",
       "<table border=\"1\" class=\"dataframe\">\n",
       "  <thead>\n",
       "    <tr style=\"text-align: right;\">\n",
       "      <th></th>\n",
       "      <th>submit_id</th>\n",
       "      <th>hold_d</th>\n",
       "    </tr>\n",
       "  </thead>\n",
       "  <tbody>\n",
       "    <tr>\n",
       "      <th>0</th>\n",
       "      <td>IDX00001</td>\n",
       "      <td>153.0</td>\n",
       "    </tr>\n",
       "    <tr>\n",
       "      <th>1</th>\n",
       "      <td>IDX00002</td>\n",
       "      <td>335.0</td>\n",
       "    </tr>\n",
       "    <tr>\n",
       "      <th>2</th>\n",
       "      <td>IDX00003</td>\n",
       "      <td>285.0</td>\n",
       "    </tr>\n",
       "    <tr>\n",
       "      <th>3</th>\n",
       "      <td>IDX00004</td>\n",
       "      <td>382.0</td>\n",
       "    </tr>\n",
       "    <tr>\n",
       "      <th>4</th>\n",
       "      <td>IDX00005</td>\n",
       "      <td>155.0</td>\n",
       "    </tr>\n",
       "    <tr>\n",
       "      <th>...</th>\n",
       "      <td>...</td>\n",
       "      <td>...</td>\n",
       "    </tr>\n",
       "    <tr>\n",
       "      <th>70591</th>\n",
       "      <td>IDX70592</td>\n",
       "      <td>23.0</td>\n",
       "    </tr>\n",
       "    <tr>\n",
       "      <th>70592</th>\n",
       "      <td>IDX70593</td>\n",
       "      <td>249.0</td>\n",
       "    </tr>\n",
       "    <tr>\n",
       "      <th>70593</th>\n",
       "      <td>IDX70594</td>\n",
       "      <td>926.0</td>\n",
       "    </tr>\n",
       "    <tr>\n",
       "      <th>70594</th>\n",
       "      <td>IDX70595</td>\n",
       "      <td>157.0</td>\n",
       "    </tr>\n",
       "    <tr>\n",
       "      <th>70595</th>\n",
       "      <td>IDX70596</td>\n",
       "      <td>150.0</td>\n",
       "    </tr>\n",
       "  </tbody>\n",
       "</table>\n",
       "<p>70596 rows × 2 columns</p>\n",
       "</div>"
      ],
      "text/plain": [
       "      submit_id  hold_d\n",
       "0      IDX00001   153.0\n",
       "1      IDX00002   335.0\n",
       "2      IDX00003   285.0\n",
       "3      IDX00004   382.0\n",
       "4      IDX00005   155.0\n",
       "...         ...     ...\n",
       "70591  IDX70592    23.0\n",
       "70592  IDX70593   249.0\n",
       "70593  IDX70594   926.0\n",
       "70594  IDX70595   157.0\n",
       "70595  IDX70596   150.0\n",
       "\n",
       "[70596 rows x 2 columns]"
      ]
     },
     "execution_count": 502,
     "metadata": {},
     "output_type": "execute_result"
    }
   ],
   "source": [
    "submission"
   ]
  },
  {
   "cell_type": "code",
   "execution_count": 503,
   "id": "867df8ee-933f-4ea1-8ff9-1d203c5adef9",
   "metadata": {},
   "outputs": [],
   "source": [
    "submission.to_csv(\"sub10_14_0.8.csv\", header=True, index=False, encoding='cp949')"
   ]
  },
  {
   "cell_type": "markdown",
   "id": "c73720ed-31fb-47d5-b8ca-1af0a7b2349c",
   "metadata": {},
   "source": [
    "# try 1005 화요일"
   ]
  },
  {
   "cell_type": "code",
   "execution_count": 7,
   "id": "07261c72-2c57-4152-a616-d047e6abfe8f",
   "metadata": {},
   "outputs": [],
   "source": [
    "# 국내주식 보유기간(STK_HLD_.CSV)\n",
    "train = pd.read_csv('train_1005최최종.csv', encoding='cp949')\n",
    "test = pd.read_csv('test_1005최최종.csv', encoding='cp949')\n",
    "\n",
    "# submission file\n",
    "submission = pd.read_csv('sample_submission.csv', encoding='cp949')"
   ]
  },
  {
   "cell_type": "code",
   "execution_count": 8,
   "id": "34283fa4-a531-410b-879d-b41c43afcaf7",
   "metadata": {},
   "outputs": [],
   "source": [
    "train[\"과거 보유일\"] = train[\"보유기간(일)\"]*0.6\n",
    "train[\"과거 보유일\"] = np.trunc(train[\"과거 보유일\"])"
   ]
  },
  {
   "cell_type": "code",
   "execution_count": 9,
   "id": "fb7059e6-be29-408e-b0dd-8828a0e5daba",
   "metadata": {},
   "outputs": [],
   "source": [
    "# train_data에서 Y값을 추출한 후 hold_d column을 지워주겠습니다.\n",
    "\n",
    "train_label = train[\"보유기간(일)\"]\n",
    "train.drop([\"보유기간(일)\"], axis = 1, inplace = True)"
   ]
  },
  {
   "cell_type": "code",
   "execution_count": 10,
   "id": "f45f5b9a-e5cf-46e8-b68b-b0ddd6fcfe90",
   "metadata": {},
   "outputs": [
    {
     "data": {
      "text/plain": [
       "Index(['계좌 ID', '종목코드', '매수일자', '국제유가_매수', '기준금리_매수', 'Rank', '매도일자', '매수_년',\n",
       "       '투자성향', '서비스 등급', '총 투자기간', '종목한글명', '시가총액 규모유형', '시장구분', '주거래업종_매수',\n",
       "       'cus_cluster_3', '환율 변화율', 'past_id', '기준일자', '잔고수량', '잔고금액', '주당 액면가',\n",
       "       'stk_p', '과거 보유일'],\n",
       "      dtype='object')"
      ]
     },
     "execution_count": 10,
     "metadata": {},
     "output_type": "execute_result"
    }
   ],
   "source": [
    "train.columns"
   ]
  },
  {
   "cell_type": "code",
   "execution_count": 11,
   "id": "55324a59-b218-40e4-ab8e-f3a2925928e8",
   "metadata": {},
   "outputs": [
    {
     "data": {
      "text/plain": [
       "Index(['계좌 ID', '종목코드', '매수일자', '과거 보유일', '제출ID', '보유기간(일)', '국제유가_매수',\n",
       "       '기준금리_매수', 'Rank', '투자성향', '서비스 등급', '총 투자기간', '종목한글명', '시가총액 규모유형',\n",
       "       '시장구분', '주거래업종_매수', 'cus_cluster_3', '매수_년', '기준일자', '잔고수량', '잔고금액',\n",
       "       '주당 액면가', 'stk_p'],\n",
       "      dtype='object')"
      ]
     },
     "execution_count": 11,
     "metadata": {},
     "output_type": "execute_result"
    }
   ],
   "source": [
    "test.columns"
   ]
  },
  {
   "cell_type": "code",
   "execution_count": 18,
   "id": "f18140b4-fc90-4fb1-9ea6-f62afa98c953",
   "metadata": {},
   "outputs": [],
   "source": [
    "# 추가적으로 약간의 전처리를 통해 train data와 test data를 구성하겠습니다.\n",
    "\n",
    "train_data = train.drop([\"계좌 ID\", \"종목코드\", \"매수일자\", \"기준일자\",'환율 변화율','past_id','종목한글명','매도일자'], axis = 1)\n",
    "test_data = test.drop([\"계좌 ID\", \"종목코드\", \"매수일자\", \"제출ID\",\"보유기간(일)\", \"기준일자\",'종목한글명'], axis = 1)"
   ]
  },
  {
   "cell_type": "code",
   "execution_count": 21,
   "id": "2782ce34-18ae-474a-a09b-e66a5ed0ba8b",
   "metadata": {},
   "outputs": [],
   "source": [
    "train_data.reset_index(drop = True, inplace=True)\n",
    "train_label.reset_index(drop = True, inplace=True)"
   ]
  },
  {
   "cell_type": "code",
   "execution_count": 22,
   "id": "ba76afed-36ca-4a9a-8e26-e601c1abe05e",
   "metadata": {},
   "outputs": [],
   "source": [
    "from sklearn.metrics import mean_squared_error as mse\n",
    "from sklearn.model_selection import train_test_split, StratifiedKFold, KFold\n",
    "from lightgbm import LGBMRegressor"
   ]
  },
  {
   "cell_type": "code",
   "execution_count": 23,
   "id": "16757585-38c8-463e-9136-55d04a48ead0",
   "metadata": {
    "collapsed": true,
    "jupyter": {
     "outputs_hidden": true
    },
    "tags": []
   },
   "outputs": [
    {
     "name": "stdout",
     "output_type": "stream",
     "text": [
      "Training until validation scores don't improve for 300 rounds\n"
     ]
    },
    {
     "ename": "KeyboardInterrupt",
     "evalue": "",
     "output_type": "error",
     "traceback": [
      "\u001b[0;31m---------------------------------------------------------------------------\u001b[0m",
      "\u001b[0;31mKeyboardInterrupt\u001b[0m                         Traceback (most recent call last)",
      "\u001b[0;32m<ipython-input-23-3f8c014146b1>\u001b[0m in \u001b[0;36m<module>\u001b[0;34m\u001b[0m\n\u001b[1;32m     19\u001b[0m               \u001b[0meval_metric\u001b[0m\u001b[0;34m=\u001b[0m\u001b[0;34m[\u001b[0m\u001b[0;34m\"rmse\"\u001b[0m\u001b[0;34m]\u001b[0m\u001b[0;34m,\u001b[0m\u001b[0;34m\u001b[0m\u001b[0;34m\u001b[0m\u001b[0m\n\u001b[1;32m     20\u001b[0m               \u001b[0mearly_stopping_rounds\u001b[0m\u001b[0;34m=\u001b[0m\u001b[0;36m300\u001b[0m\u001b[0;34m,\u001b[0m\u001b[0;34m\u001b[0m\u001b[0;34m\u001b[0m\u001b[0m\n\u001b[0;32m---> 21\u001b[0;31m               verbose=500)\n\u001b[0m\u001b[1;32m     22\u001b[0m \u001b[0;34m\u001b[0m\u001b[0m\n\u001b[1;32m     23\u001b[0m     \u001b[0mmodels\u001b[0m\u001b[0;34m.\u001b[0m\u001b[0mappend\u001b[0m\u001b[0;34m(\u001b[0m\u001b[0mmodel\u001b[0m\u001b[0;34m)\u001b[0m\u001b[0;34m\u001b[0m\u001b[0;34m\u001b[0m\u001b[0m\n",
      "\u001b[0;32m~/anaconda3/lib/python3.6/site-packages/lightgbm/sklearn.py\u001b[0m in \u001b[0;36mfit\u001b[0;34m(self, X, y, sample_weight, init_score, eval_set, eval_names, eval_sample_weight, eval_init_score, eval_metric, early_stopping_rounds, verbose, feature_name, categorical_feature, callbacks, init_model)\u001b[0m\n\u001b[1;32m    820\u001b[0m                     \u001b[0meval_init_score\u001b[0m\u001b[0;34m=\u001b[0m\u001b[0meval_init_score\u001b[0m\u001b[0;34m,\u001b[0m \u001b[0meval_metric\u001b[0m\u001b[0;34m=\u001b[0m\u001b[0meval_metric\u001b[0m\u001b[0;34m,\u001b[0m\u001b[0;34m\u001b[0m\u001b[0;34m\u001b[0m\u001b[0m\n\u001b[1;32m    821\u001b[0m                     \u001b[0mearly_stopping_rounds\u001b[0m\u001b[0;34m=\u001b[0m\u001b[0mearly_stopping_rounds\u001b[0m\u001b[0;34m,\u001b[0m \u001b[0mverbose\u001b[0m\u001b[0;34m=\u001b[0m\u001b[0mverbose\u001b[0m\u001b[0;34m,\u001b[0m \u001b[0mfeature_name\u001b[0m\u001b[0;34m=\u001b[0m\u001b[0mfeature_name\u001b[0m\u001b[0;34m,\u001b[0m\u001b[0;34m\u001b[0m\u001b[0;34m\u001b[0m\u001b[0m\n\u001b[0;32m--> 822\u001b[0;31m                     categorical_feature=categorical_feature, callbacks=callbacks, init_model=init_model)\n\u001b[0m\u001b[1;32m    823\u001b[0m         \u001b[0;32mreturn\u001b[0m \u001b[0mself\u001b[0m\u001b[0;34m\u001b[0m\u001b[0;34m\u001b[0m\u001b[0m\n\u001b[1;32m    824\u001b[0m \u001b[0;34m\u001b[0m\u001b[0m\n",
      "\u001b[0;32m~/anaconda3/lib/python3.6/site-packages/lightgbm/sklearn.py\u001b[0m in \u001b[0;36mfit\u001b[0;34m(self, X, y, sample_weight, init_score, group, eval_set, eval_names, eval_sample_weight, eval_class_weight, eval_init_score, eval_group, eval_metric, early_stopping_rounds, verbose, feature_name, categorical_feature, callbacks, init_model)\u001b[0m\n\u001b[1;32m    686\u001b[0m                               \u001b[0mevals_result\u001b[0m\u001b[0;34m=\u001b[0m\u001b[0mevals_result\u001b[0m\u001b[0;34m,\u001b[0m \u001b[0mfobj\u001b[0m\u001b[0;34m=\u001b[0m\u001b[0mself\u001b[0m\u001b[0;34m.\u001b[0m\u001b[0m_fobj\u001b[0m\u001b[0;34m,\u001b[0m \u001b[0mfeval\u001b[0m\u001b[0;34m=\u001b[0m\u001b[0meval_metrics_callable\u001b[0m\u001b[0;34m,\u001b[0m\u001b[0;34m\u001b[0m\u001b[0;34m\u001b[0m\u001b[0m\n\u001b[1;32m    687\u001b[0m                               \u001b[0mverbose_eval\u001b[0m\u001b[0;34m=\u001b[0m\u001b[0mverbose\u001b[0m\u001b[0;34m,\u001b[0m \u001b[0mfeature_name\u001b[0m\u001b[0;34m=\u001b[0m\u001b[0mfeature_name\u001b[0m\u001b[0;34m,\u001b[0m\u001b[0;34m\u001b[0m\u001b[0;34m\u001b[0m\u001b[0m\n\u001b[0;32m--> 688\u001b[0;31m                               callbacks=callbacks, init_model=init_model)\n\u001b[0m\u001b[1;32m    689\u001b[0m \u001b[0;34m\u001b[0m\u001b[0m\n\u001b[1;32m    690\u001b[0m         \u001b[0;32mif\u001b[0m \u001b[0mevals_result\u001b[0m\u001b[0;34m:\u001b[0m\u001b[0;34m\u001b[0m\u001b[0;34m\u001b[0m\u001b[0m\n",
      "\u001b[0;32m~/anaconda3/lib/python3.6/site-packages/lightgbm/engine.py\u001b[0m in \u001b[0;36mtrain\u001b[0;34m(params, train_set, num_boost_round, valid_sets, valid_names, fobj, feval, init_model, feature_name, categorical_feature, early_stopping_rounds, evals_result, verbose_eval, learning_rates, keep_training_booster, callbacks)\u001b[0m\n\u001b[1;32m    247\u001b[0m                                     evaluation_result_list=None))\n\u001b[1;32m    248\u001b[0m \u001b[0;34m\u001b[0m\u001b[0m\n\u001b[0;32m--> 249\u001b[0;31m         \u001b[0mbooster\u001b[0m\u001b[0;34m.\u001b[0m\u001b[0mupdate\u001b[0m\u001b[0;34m(\u001b[0m\u001b[0mfobj\u001b[0m\u001b[0;34m=\u001b[0m\u001b[0mfobj\u001b[0m\u001b[0;34m)\u001b[0m\u001b[0;34m\u001b[0m\u001b[0;34m\u001b[0m\u001b[0m\n\u001b[0m\u001b[1;32m    250\u001b[0m \u001b[0;34m\u001b[0m\u001b[0m\n\u001b[1;32m    251\u001b[0m         \u001b[0mevaluation_result_list\u001b[0m \u001b[0;34m=\u001b[0m \u001b[0;34m[\u001b[0m\u001b[0;34m]\u001b[0m\u001b[0;34m\u001b[0m\u001b[0;34m\u001b[0m\u001b[0m\n",
      "\u001b[0;32m~/anaconda3/lib/python3.6/site-packages/lightgbm/basic.py\u001b[0m in \u001b[0;36mupdate\u001b[0;34m(self, train_set, fobj)\u001b[0m\n\u001b[1;32m   2643\u001b[0m             _safe_call(_LIB.LGBM_BoosterUpdateOneIter(\n\u001b[1;32m   2644\u001b[0m                 \u001b[0mself\u001b[0m\u001b[0;34m.\u001b[0m\u001b[0mhandle\u001b[0m\u001b[0;34m,\u001b[0m\u001b[0;34m\u001b[0m\u001b[0;34m\u001b[0m\u001b[0m\n\u001b[0;32m-> 2645\u001b[0;31m                 ctypes.byref(is_finished)))\n\u001b[0m\u001b[1;32m   2646\u001b[0m             \u001b[0mself\u001b[0m\u001b[0;34m.\u001b[0m\u001b[0m__is_predicted_cur_iter\u001b[0m \u001b[0;34m=\u001b[0m \u001b[0;34m[\u001b[0m\u001b[0;32mFalse\u001b[0m \u001b[0;32mfor\u001b[0m \u001b[0m_\u001b[0m \u001b[0;32min\u001b[0m \u001b[0mrange\u001b[0m\u001b[0;34m(\u001b[0m\u001b[0mself\u001b[0m\u001b[0;34m.\u001b[0m\u001b[0m__num_dataset\u001b[0m\u001b[0;34m)\u001b[0m\u001b[0;34m]\u001b[0m\u001b[0;34m\u001b[0m\u001b[0;34m\u001b[0m\u001b[0m\n\u001b[1;32m   2647\u001b[0m             \u001b[0;32mreturn\u001b[0m \u001b[0mis_finished\u001b[0m\u001b[0;34m.\u001b[0m\u001b[0mvalue\u001b[0m \u001b[0;34m==\u001b[0m \u001b[0;36m1\u001b[0m\u001b[0;34m\u001b[0m\u001b[0;34m\u001b[0m\u001b[0m\n",
      "\u001b[0;31mKeyboardInterrupt\u001b[0m: "
     ]
    }
   ],
   "source": [
    "models = []\n",
    "\n",
    "folds = KFold(n_splits=10)\n",
    "for train_idx, val_idx in folds.split(train_data):\n",
    "    \n",
    "    train_x = train_data.iloc[train_idx, :]\n",
    "    train_y = train_label[train_idx]\n",
    "    val_x = train_data.iloc[val_idx, :]\n",
    "    val_y = train_label[val_idx]\n",
    "    \n",
    "    model = LGBMRegressor(objective= \"regression\",\n",
    "                          max_depth= 5,\n",
    "                          n_estimators= 2000,\n",
    "                          learning_rate= 0.01,\n",
    "                          num_leaves = 31)\n",
    "    \n",
    "    model.fit(train_x, train_y,\n",
    "              eval_set=[(val_x, val_y)],\n",
    "              eval_metric=[\"rmse\"],\n",
    "              early_stopping_rounds=300,\n",
    "              verbose=500)\n",
    "    \n",
    "    models.append(model)"
   ]
  },
  {
   "cell_type": "code",
   "execution_count": null,
   "id": "4c13c983-2b55-4cf5-ae9c-4d6d747f400b",
   "metadata": {},
   "outputs": [],
   "source": [
    "result = []\n",
    "for i in models:\n",
    "    result.append(i.predict(test_data))\n",
    "predict = np.mean(result, axis = 0)"
   ]
  },
  {
   "cell_type": "code",
   "execution_count": null,
   "id": "1fa8724c-7e77-473c-8db6-947fcde9b1c0",
   "metadata": {},
   "outputs": [],
   "source": [
    "predict"
   ]
  },
  {
   "cell_type": "code",
   "execution_count": 607,
   "id": "6b9f5853-86d2-44ac-92f1-70200d62532d",
   "metadata": {},
   "outputs": [],
   "source": [
    "submission = pd.read_csv(\"sample_submission.csv\", encoding='cp949')"
   ]
  },
  {
   "cell_type": "code",
   "execution_count": 608,
   "id": "9f7eafd2-6b50-41f1-8f6c-cdace6b2d38b",
   "metadata": {},
   "outputs": [],
   "source": [
    "submission[\"hold_d\"] = np.round(predict)"
   ]
  },
  {
   "cell_type": "code",
   "execution_count": 609,
   "id": "bddadf20-af1a-4962-8299-1b523f42bde0",
   "metadata": {},
   "outputs": [],
   "source": [
    "submission.columns=[\"제출ID\",\"보유기간(일)\"]"
   ]
  },
  {
   "cell_type": "code",
   "execution_count": 610,
   "id": "080de178-d97a-4c89-b28c-96542ded02d0",
   "metadata": {},
   "outputs": [],
   "source": [
    "sub = pd.merge(submission, test[['제출ID','과거 보유일']], on=['제출ID'])\n",
    "sub['차이']= sub['보유기간(일)']-sub['과거 보유일']"
   ]
  },
  {
   "cell_type": "code",
   "execution_count": 611,
   "id": "4d0eaafe-29fc-44f0-bb87-2092d817a90b",
   "metadata": {},
   "outputs": [],
   "source": [
    "# 0~146인 값만 채택, 나머지는 outlier 취급 ㅎ\n",
    "def change(x):\n",
    "        if x< 0 : return 0\n",
    "        elif x>146 : return 146\n",
    "        else: return x"
   ]
  },
  {
   "cell_type": "code",
   "execution_count": null,
   "id": "06fffc07-a278-4843-8583-d00b5ccf9c20",
   "metadata": {},
   "outputs": [],
   "source": [
    "# outlier는 완전 146으로 하고, 나머지는 0~146으로 스케일링 조절해서 0~146 사이에 오게 만들어주기!\n",
    "a= sub['차이'].quantile(0.1)\n",
    "b= sub['차이'].qunatile(0.9)\n",
    "def min_max(x):\n",
    "    if x < a : return 0\n",
    "    elif x > b : return 146\n",
    "    else : return (x-a)/(b-a)*146"
   ]
  },
  {
   "cell_type": "code",
   "execution_count": 612,
   "id": "2319c9fb-c9b0-464d-a1ff-abf4b9dad057",
   "metadata": {},
   "outputs": [],
   "source": [
    "sub[\"보정1\"] = sub[\"차이\"].apply(change)\n",
    "sub[\"보정2\"] = sub[\"차이\"].apply(min_max)\n",
    "sub['hold_d'] = sub['보정']+sub['과거 보유일']\n",
    "sub =sub.rename(columns={'제출ID':'submit_id'})\n",
    "submission = sub[['submit_id','hold_d']]"
   ]
  },
  {
   "cell_type": "code",
   "execution_count": 615,
   "id": "a8e333bf-0fe0-4de0-9142-f1788a336d01",
   "metadata": {
    "tags": []
   },
   "outputs": [
    {
     "data": {
      "text/html": [
       "<div>\n",
       "<style scoped>\n",
       "    .dataframe tbody tr th:only-of-type {\n",
       "        vertical-align: middle;\n",
       "    }\n",
       "\n",
       "    .dataframe tbody tr th {\n",
       "        vertical-align: top;\n",
       "    }\n",
       "\n",
       "    .dataframe thead th {\n",
       "        text-align: right;\n",
       "    }\n",
       "</style>\n",
       "<table border=\"1\" class=\"dataframe\">\n",
       "  <thead>\n",
       "    <tr style=\"text-align: right;\">\n",
       "      <th></th>\n",
       "      <th>submit_id</th>\n",
       "      <th>보유기간(일)</th>\n",
       "      <th>과거 보유일</th>\n",
       "      <th>차이</th>\n",
       "      <th>보정</th>\n",
       "      <th>hold_d</th>\n",
       "    </tr>\n",
       "  </thead>\n",
       "  <tbody>\n",
       "    <tr>\n",
       "      <th>0</th>\n",
       "      <td>IDX00001</td>\n",
       "      <td>64.0</td>\n",
       "      <td>153</td>\n",
       "      <td>-89.0</td>\n",
       "      <td>0.0</td>\n",
       "      <td>153.0</td>\n",
       "    </tr>\n",
       "    <tr>\n",
       "      <th>1</th>\n",
       "      <td>IDX00002</td>\n",
       "      <td>332.0</td>\n",
       "      <td>335</td>\n",
       "      <td>-3.0</td>\n",
       "      <td>0.0</td>\n",
       "      <td>335.0</td>\n",
       "    </tr>\n",
       "    <tr>\n",
       "      <th>2</th>\n",
       "      <td>IDX00003</td>\n",
       "      <td>901.0</td>\n",
       "      <td>139</td>\n",
       "      <td>762.0</td>\n",
       "      <td>146.0</td>\n",
       "      <td>285.0</td>\n",
       "    </tr>\n",
       "    <tr>\n",
       "      <th>3</th>\n",
       "      <td>IDX00004</td>\n",
       "      <td>901.0</td>\n",
       "      <td>236</td>\n",
       "      <td>665.0</td>\n",
       "      <td>146.0</td>\n",
       "      <td>382.0</td>\n",
       "    </tr>\n",
       "    <tr>\n",
       "      <th>4</th>\n",
       "      <td>IDX00005</td>\n",
       "      <td>901.0</td>\n",
       "      <td>9</td>\n",
       "      <td>892.0</td>\n",
       "      <td>146.0</td>\n",
       "      <td>155.0</td>\n",
       "    </tr>\n",
       "    <tr>\n",
       "      <th>...</th>\n",
       "      <td>...</td>\n",
       "      <td>...</td>\n",
       "      <td>...</td>\n",
       "      <td>...</td>\n",
       "      <td>...</td>\n",
       "      <td>...</td>\n",
       "    </tr>\n",
       "    <tr>\n",
       "      <th>70591</th>\n",
       "      <td>IDX70592</td>\n",
       "      <td>2.0</td>\n",
       "      <td>23</td>\n",
       "      <td>-21.0</td>\n",
       "      <td>0.0</td>\n",
       "      <td>23.0</td>\n",
       "    </tr>\n",
       "    <tr>\n",
       "      <th>70592</th>\n",
       "      <td>IDX70593</td>\n",
       "      <td>941.0</td>\n",
       "      <td>103</td>\n",
       "      <td>838.0</td>\n",
       "      <td>146.0</td>\n",
       "      <td>249.0</td>\n",
       "    </tr>\n",
       "    <tr>\n",
       "      <th>70593</th>\n",
       "      <td>IDX70594</td>\n",
       "      <td>932.0</td>\n",
       "      <td>858</td>\n",
       "      <td>74.0</td>\n",
       "      <td>74.0</td>\n",
       "      <td>932.0</td>\n",
       "    </tr>\n",
       "    <tr>\n",
       "      <th>70594</th>\n",
       "      <td>IDX70595</td>\n",
       "      <td>196.0</td>\n",
       "      <td>11</td>\n",
       "      <td>185.0</td>\n",
       "      <td>146.0</td>\n",
       "      <td>157.0</td>\n",
       "    </tr>\n",
       "    <tr>\n",
       "      <th>70595</th>\n",
       "      <td>IDX70596</td>\n",
       "      <td>916.0</td>\n",
       "      <td>4</td>\n",
       "      <td>912.0</td>\n",
       "      <td>146.0</td>\n",
       "      <td>150.0</td>\n",
       "    </tr>\n",
       "  </tbody>\n",
       "</table>\n",
       "<p>70596 rows × 6 columns</p>\n",
       "</div>"
      ],
      "text/plain": [
       "      submit_id  보유기간(일)  과거 보유일     차이     보정  hold_d\n",
       "0      IDX00001     64.0     153  -89.0    0.0   153.0\n",
       "1      IDX00002    332.0     335   -3.0    0.0   335.0\n",
       "2      IDX00003    901.0     139  762.0  146.0   285.0\n",
       "3      IDX00004    901.0     236  665.0  146.0   382.0\n",
       "4      IDX00005    901.0       9  892.0  146.0   155.0\n",
       "...         ...      ...     ...    ...    ...     ...\n",
       "70591  IDX70592      2.0      23  -21.0    0.0    23.0\n",
       "70592  IDX70593    941.0     103  838.0  146.0   249.0\n",
       "70593  IDX70594    932.0     858   74.0   74.0   932.0\n",
       "70594  IDX70595    196.0      11  185.0  146.0   157.0\n",
       "70595  IDX70596    916.0       4  912.0  146.0   150.0\n",
       "\n",
       "[70596 rows x 6 columns]"
      ]
     },
     "execution_count": 615,
     "metadata": {},
     "output_type": "execute_result"
    }
   ],
   "source": [
    "sub"
   ]
  },
  {
   "cell_type": "code",
   "execution_count": 613,
   "id": "345aab6e-2ac0-40d7-932b-4b53e78d65f6",
   "metadata": {},
   "outputs": [
    {
     "data": {
      "text/html": [
       "<div>\n",
       "<style scoped>\n",
       "    .dataframe tbody tr th:only-of-type {\n",
       "        vertical-align: middle;\n",
       "    }\n",
       "\n",
       "    .dataframe tbody tr th {\n",
       "        vertical-align: top;\n",
       "    }\n",
       "\n",
       "    .dataframe thead th {\n",
       "        text-align: right;\n",
       "    }\n",
       "</style>\n",
       "<table border=\"1\" class=\"dataframe\">\n",
       "  <thead>\n",
       "    <tr style=\"text-align: right;\">\n",
       "      <th></th>\n",
       "      <th>submit_id</th>\n",
       "      <th>hold_d</th>\n",
       "    </tr>\n",
       "  </thead>\n",
       "  <tbody>\n",
       "    <tr>\n",
       "      <th>0</th>\n",
       "      <td>IDX00001</td>\n",
       "      <td>153.0</td>\n",
       "    </tr>\n",
       "    <tr>\n",
       "      <th>1</th>\n",
       "      <td>IDX00002</td>\n",
       "      <td>335.0</td>\n",
       "    </tr>\n",
       "    <tr>\n",
       "      <th>2</th>\n",
       "      <td>IDX00003</td>\n",
       "      <td>285.0</td>\n",
       "    </tr>\n",
       "    <tr>\n",
       "      <th>3</th>\n",
       "      <td>IDX00004</td>\n",
       "      <td>382.0</td>\n",
       "    </tr>\n",
       "    <tr>\n",
       "      <th>4</th>\n",
       "      <td>IDX00005</td>\n",
       "      <td>155.0</td>\n",
       "    </tr>\n",
       "    <tr>\n",
       "      <th>...</th>\n",
       "      <td>...</td>\n",
       "      <td>...</td>\n",
       "    </tr>\n",
       "    <tr>\n",
       "      <th>70591</th>\n",
       "      <td>IDX70592</td>\n",
       "      <td>23.0</td>\n",
       "    </tr>\n",
       "    <tr>\n",
       "      <th>70592</th>\n",
       "      <td>IDX70593</td>\n",
       "      <td>249.0</td>\n",
       "    </tr>\n",
       "    <tr>\n",
       "      <th>70593</th>\n",
       "      <td>IDX70594</td>\n",
       "      <td>932.0</td>\n",
       "    </tr>\n",
       "    <tr>\n",
       "      <th>70594</th>\n",
       "      <td>IDX70595</td>\n",
       "      <td>157.0</td>\n",
       "    </tr>\n",
       "    <tr>\n",
       "      <th>70595</th>\n",
       "      <td>IDX70596</td>\n",
       "      <td>150.0</td>\n",
       "    </tr>\n",
       "  </tbody>\n",
       "</table>\n",
       "<p>70596 rows × 2 columns</p>\n",
       "</div>"
      ],
      "text/plain": [
       "      submit_id  hold_d\n",
       "0      IDX00001   153.0\n",
       "1      IDX00002   335.0\n",
       "2      IDX00003   285.0\n",
       "3      IDX00004   382.0\n",
       "4      IDX00005   155.0\n",
       "...         ...     ...\n",
       "70591  IDX70592    23.0\n",
       "70592  IDX70593   249.0\n",
       "70593  IDX70594   932.0\n",
       "70594  IDX70595   157.0\n",
       "70595  IDX70596   150.0\n",
       "\n",
       "[70596 rows x 2 columns]"
      ]
     },
     "execution_count": 613,
     "metadata": {},
     "output_type": "execute_result"
    }
   ],
   "source": [
    "submission"
   ]
  },
  {
   "cell_type": "code",
   "execution_count": 614,
   "id": "ef5cd4e1-90c0-47a8-9a2c-75c5d972e703",
   "metadata": {},
   "outputs": [],
   "source": [
    "submission.to_csv(\"sub15_3_0.6.csv\", header=True, index=False, encoding='cp949')"
   ]
  },
  {
   "cell_type": "code",
   "execution_count": null,
   "id": "44f7b1da-469a-4036-8a82-a18d43678702",
   "metadata": {},
   "outputs": [],
   "source": []
  }
 ],
 "metadata": {
  "kernelspec": {
   "display_name": "Python 3",
   "language": "python",
   "name": "python3"
  },
  "language_info": {
   "codemirror_mode": {
    "name": "ipython",
    "version": 3
   },
   "file_extension": ".py",
   "mimetype": "text/x-python",
   "name": "python",
   "nbconvert_exporter": "python",
   "pygments_lexer": "ipython3",
   "version": "3.6.10"
  }
 },
 "nbformat": 4,
 "nbformat_minor": 5
}
