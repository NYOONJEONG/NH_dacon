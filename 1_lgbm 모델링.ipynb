{
 "cells": [
  {
   "cell_type": "code",
   "execution_count": 1,
   "id": "dab6e2f4-064b-4cd5-aced-8317ca19e907",
   "metadata": {},
   "outputs": [],
   "source": [
    "import numpy as np\n",
    "import pandas as pd\n",
    "from pandas import DataFrame\n",
    "from pandas import Series\n",
    "import seaborn as sns\n",
    "from tqdm import tqdm\n",
    "import plotly.io as pio\n",
    "import plotly.express as px\n",
    "import plotly.offline as pyo\n",
    "import plotly.graph_objs as go\n",
    "import matplotlib.font_manager as fm\n",
    "font_path = './AppleGothic.ttf'\n",
    "fontprop = fm.FontProperties(fname=font_path, size=18)\n",
    "font_name = fm.FontProperties(fname=font_path).get_name()"
   ]
  },
  {
   "cell_type": "code",
   "execution_count": 2,
   "id": "8b0b18bf-ee37-4182-a3dc-09d070a6c646",
   "metadata": {},
   "outputs": [],
   "source": [
    "iem = pd.read_csv(\"iem_new2.csv\", encoding='cp949')\n",
    "cus =pd.read_csv(\"cus_info_new.csv\", encoding='cp949')\n",
    "hist = pd.read_csv(\"stk_bnc_hist.csv\", encoding='cp949')\n",
    "train_eco = pd.read_csv(\"train_경제지표.csv\", encoding='cp949')\n",
    "test = pd.read_csv(\"test_경제지표.csv\", encoding='cp949')"
   ]
  },
  {
   "cell_type": "code",
   "execution_count": 3,
   "id": "d41cc034-7767-4013-87c3-9a00cca29d1b",
   "metadata": {},
   "outputs": [],
   "source": [
    "cus.columns=[\"계좌 ID\",\"성별\",\"연령대\",\"투자성향\",\"자산구간\",\"주거래상품군\",\"Life Style\",\"서비스 등급\",\"총 투자기간\",\"주거래업종구분\"]\n",
    "hist.columns= [\"계좌 ID\",\"기준일자\",\"종목코드\",\"잔고수량\",\"잔고금액\",\"주당 액면가\"]"
   ]
  },
  {
   "cell_type": "code",
   "execution_count": 4,
   "id": "ab448cc6-bd4c-44d8-949e-583944b983e6",
   "metadata": {},
   "outputs": [],
   "source": [
    "hist['기준일자'] = hist['기준일자'].astype('str')\n",
    "hist['기준일자'] = hist['기준일자'].apply(lambda x: str(x[0:4]) + '-' + str(x[4:6]) + '-'+ str(x[6:8]))"
   ]
  },
  {
   "cell_type": "code",
   "execution_count": 5,
   "id": "d101d92c-a99c-44f9-a2c7-0c468ecec8be",
   "metadata": {},
   "outputs": [],
   "source": [
    "train_eco_scaled = pd.read_csv('train_eco_scaled.csv', encoding='cp949')"
   ]
  },
  {
   "cell_type": "markdown",
   "id": "4590f067-573d-4268-80e0-b90957890839",
   "metadata": {},
   "source": [
    "# hist_d 생성"
   ]
  },
  {
   "cell_type": "markdown",
   "id": "d984c729-73b4-4d82-9202-deb36193aca6",
   "metadata": {},
   "source": [
    "## 연도별로 0.1씩"
   ]
  },
  {
   "cell_type": "code",
   "execution_count": 5,
   "id": "30c50d21-76b9-4c55-982a-d448cc77aa51",
   "metadata": {},
   "outputs": [],
   "source": [
    "train_eco['year']= train_eco['매수일자'].apply(lambda x: x[0:4])"
   ]
  },
  {
   "cell_type": "code",
   "execution_count": 6,
   "id": "baae20dd-c1c8-4fa9-86b6-09a6151c35bd",
   "metadata": {},
   "outputs": [],
   "source": [
    "train_eco['과거 보유일'] = np.nan\n",
    "\n",
    "train_eco2016 = train_eco[train_eco['year']=='2016'].copy()\n",
    "train_eco2016['과거 보유일'] = train_eco2016['보유기간(일)']*0.5\n",
    "\n",
    "train_eco2017 = train_eco[train_eco['year']=='2017'].copy()\n",
    "train_eco2017['과거 보유일'] = train_eco2017['보유기간(일)']*0.6\n",
    "\n",
    "train_eco2018 = train_eco[train_eco['year']=='2018'].copy()\n",
    "train_eco2018['과거 보유일'] = train_eco2018['보유기간(일)']*0.7\n",
    "\n",
    "train_eco2019 = train_eco[train_eco['year']=='2019'].copy()\n",
    "train_eco2019['과거 보유일'] = train_eco2019['보유기간(일)']*0.8\n",
    "\n",
    "train_eco2020 = train_eco[train_eco['year']=='2020'].copy()\n",
    "train_eco2020['과거 보유일'] = train_eco2020['보유기간(일)']*0.9"
   ]
  },
  {
   "cell_type": "code",
   "execution_count": 7,
   "id": "265c8725-51ef-4816-86af-3c154d735ee3",
   "metadata": {},
   "outputs": [],
   "source": [
    "train_year =pd.concat([train_eco2016,train_eco2017,train_eco2018,train_eco2019,train_eco2020], ignore_index=True)"
   ]
  },
  {
   "cell_type": "code",
   "execution_count": 8,
   "id": "dd181f60-6be5-4e9f-a428-65149ded1e67",
   "metadata": {},
   "outputs": [],
   "source": [
    "train_year['과거 보유일'] = round(train_year['과거 보유일'],2)\n",
    "train_year = train_year.drop('year', axis=1, inplace=False)"
   ]
  },
  {
   "cell_type": "code",
   "execution_count": 9,
   "id": "c86abf33-fb3d-413d-ac4c-0cae498b44e7",
   "metadata": {},
   "outputs": [],
   "source": [
    "train_data= pd.merge(train_year,iem, how='left', on='종목코드')\n",
    "train_data = pd.merge(train_data, cus,how='left', on='계좌 ID')\n",
    "\n",
    "test_data= pd.merge(test, iem, on='종목코드')\n",
    "test_data = pd.merge(test_data , cus, on='계좌 ID')"
   ]
  },
  {
   "cell_type": "code",
   "execution_count": 10,
   "id": "e50d1d9d-1049-4efb-a582-c36f26530876",
   "metadata": {},
   "outputs": [],
   "source": [
    "# train_data에서 Y값을 추출한 후 hold_d column을 지워주겠습니다.\n",
    "\n",
    "train_label = train_data[\"보유기간(일)\"]\n",
    "train_data.drop([\"보유기간(일)\"], axis = 1, inplace = True)"
   ]
  },
  {
   "cell_type": "code",
   "execution_count": 11,
   "id": "d8afc66e-be60-4a33-a3b4-906d143ae0e8",
   "metadata": {},
   "outputs": [
    {
     "data": {
      "text/html": [
       "<div>\n",
       "<style scoped>\n",
       "    .dataframe tbody tr th:only-of-type {\n",
       "        vertical-align: middle;\n",
       "    }\n",
       "\n",
       "    .dataframe tbody tr th {\n",
       "        vertical-align: top;\n",
       "    }\n",
       "\n",
       "    .dataframe thead th {\n",
       "        text-align: right;\n",
       "    }\n",
       "</style>\n",
       "<table border=\"1\" class=\"dataframe\">\n",
       "  <thead>\n",
       "    <tr style=\"text-align: right;\">\n",
       "      <th></th>\n",
       "      <th>계좌 ID</th>\n",
       "      <th>기준일자</th>\n",
       "      <th>종목코드</th>\n",
       "      <th>잔고수량</th>\n",
       "      <th>잔고금액</th>\n",
       "      <th>주당 액면가</th>\n",
       "    </tr>\n",
       "  </thead>\n",
       "  <tbody>\n",
       "    <tr>\n",
       "      <th>0</th>\n",
       "      <td>1119c23c3a504ca7b75060277410c0f6fb9018ec7638c2...</td>\n",
       "      <td>2020-08-20</td>\n",
       "      <td>A008770</td>\n",
       "      <td>40.0</td>\n",
       "      <td>2828000.0</td>\n",
       "      <td>5000.0</td>\n",
       "    </tr>\n",
       "    <tr>\n",
       "      <th>1</th>\n",
       "      <td>1119c23c3a504ca7b75060277410c0f6fb9018ec7638c2...</td>\n",
       "      <td>2020-06-23</td>\n",
       "      <td>A008770</td>\n",
       "      <td>20.0</td>\n",
       "      <td>1390000.0</td>\n",
       "      <td>5000.0</td>\n",
       "    </tr>\n",
       "  </tbody>\n",
       "</table>\n",
       "</div>"
      ],
      "text/plain": [
       "                                               계좌 ID        기준일자     종목코드  \\\n",
       "0  1119c23c3a504ca7b75060277410c0f6fb9018ec7638c2...  2020-08-20  A008770   \n",
       "1  1119c23c3a504ca7b75060277410c0f6fb9018ec7638c2...  2020-06-23  A008770   \n",
       "\n",
       "   잔고수량       잔고금액  주당 액면가  \n",
       "0  40.0  2828000.0  5000.0  \n",
       "1  20.0  1390000.0  5000.0  "
      ]
     },
     "execution_count": 11,
     "metadata": {},
     "output_type": "execute_result"
    }
   ],
   "source": [
    "hist.head(2)"
   ]
  },
  {
   "cell_type": "code",
   "execution_count": 12,
   "id": "596d2702-e3d1-421c-9bdf-ba3fcc38e41e",
   "metadata": {},
   "outputs": [],
   "source": [
    "train_data = pd.merge(train_data, hist, how = \"left\", on = [\"계좌 ID\", \"종목코드\"])\n",
    "train_data = train_data[(train_data[\"매수일자\"] == train_data[\"기준일자\"])] # 매수일 = 기준일자\n",
    "train_data.reset_index(drop = True, inplace = True)\n",
    "\n",
    "test_data = pd.merge(test_data, hist, how = \"left\", on = [\"계좌 ID\", \"종목코드\"])\n",
    "test_data = test_data[(test_data[\"매수일자\"] == test_data[\"기준일자\"])]\n",
    "test_data.reset_index(drop = True, inplace = True)\n",
    "\n",
    "train_data = train_data.drop([\"계좌 ID\", \"종목코드\", \"매수일자\", \"기준일자\"], axis = 1) # 계좌번호, 종목코드, 매수일, 기준일자\n",
    "test_data = test_data.drop([\"계좌 ID\", \"종목코드\", \"매수일자\", \"제출ID\",\"보유기간(일)\", \"기준일자\"], axis = 1)"
   ]
  },
  {
   "cell_type": "code",
   "execution_count": 13,
   "id": "4baddacb-6a41-4116-9e8d-113df2b96931",
   "metadata": {},
   "outputs": [],
   "source": [
    "from sklearn.preprocessing import LabelEncoder\n",
    "L_encoder = LabelEncoder()\n",
    "L_encoder.fit(iem[\"종목한글명\"]) # 종목 한글명\n",
    "train_data[\"종목한글명\"] = L_encoder.transform(train_data[\"종목한글명\"])\n",
    "test_data[\"종목한글명\"] = L_encoder.transform(test_data[\"종목한글명\"])"
   ]
  },
  {
   "cell_type": "code",
   "execution_count": 14,
   "id": "92e7af11-44b8-4241-98fe-9bf8263b1a68",
   "metadata": {},
   "outputs": [],
   "source": [
    "train_data.reset_index(drop = True, inplace=True)\n",
    "train_label.reset_index(drop = True, inplace=True)"
   ]
  },
  {
   "cell_type": "code",
   "execution_count": 15,
   "id": "dd79415f-faaf-46b1-94a1-2272ec8ba007",
   "metadata": {},
   "outputs": [],
   "source": [
    "from sklearn.metrics import mean_squared_error as mse\n",
    "from sklearn.model_selection import train_test_split, StratifiedKFold, KFold\n",
    "from lightgbm import LGBMRegressor"
   ]
  },
  {
   "cell_type": "code",
   "execution_count": 16,
   "id": "a5482e37-e7ad-4772-867c-d9da8ab7495b",
   "metadata": {},
   "outputs": [
    {
     "name": "stdout",
     "output_type": "stream",
     "text": [
      "Training until validation scores don't improve for 300 rounds\n",
      "[500]\tvalid_0's rmse: 15.3397\tvalid_0's l2: 235.307\n",
      "[1000]\tvalid_0's rmse: 15.2265\tvalid_0's l2: 231.846\n",
      "Early stopping, best iteration is:\n",
      "[778]\tvalid_0's rmse: 15.1257\tvalid_0's l2: 228.786\n",
      "Training until validation scores don't improve for 300 rounds\n",
      "[500]\tvalid_0's rmse: 2.8472\tvalid_0's l2: 8.10657\n",
      "[1000]\tvalid_0's rmse: 2.56427\tvalid_0's l2: 6.5755\n",
      "Early stopping, best iteration is:\n",
      "[925]\tvalid_0's rmse: 2.54008\tvalid_0's l2: 6.45199\n",
      "Training until validation scores don't improve for 300 rounds\n",
      "[500]\tvalid_0's rmse: 2.50008\tvalid_0's l2: 6.25038\n",
      "[1000]\tvalid_0's rmse: 2.01351\tvalid_0's l2: 4.05421\n",
      "[1500]\tvalid_0's rmse: 1.91071\tvalid_0's l2: 3.65081\n",
      "[2000]\tvalid_0's rmse: 1.88215\tvalid_0's l2: 3.54247\n",
      "Did not meet early stopping. Best iteration is:\n",
      "[1998]\tvalid_0's rmse: 1.88209\tvalid_0's l2: 3.54226\n",
      "Training until validation scores don't improve for 300 rounds\n",
      "[500]\tvalid_0's rmse: 2.37887\tvalid_0's l2: 5.65903\n",
      "[1000]\tvalid_0's rmse: 2.13864\tvalid_0's l2: 4.5738\n",
      "Early stopping, best iteration is:\n",
      "[977]\tvalid_0's rmse: 2.13137\tvalid_0's l2: 4.54274\n",
      "Training until validation scores don't improve for 300 rounds\n",
      "[500]\tvalid_0's rmse: 1.47016\tvalid_0's l2: 2.16136\n",
      "Early stopping, best iteration is:\n",
      "[325]\tvalid_0's rmse: 1.21233\tvalid_0's l2: 1.46975\n",
      "Training until validation scores don't improve for 300 rounds\n",
      "[500]\tvalid_0's rmse: 0.724672\tvalid_0's l2: 0.52515\n",
      "Early stopping, best iteration is:\n",
      "[580]\tvalid_0's rmse: 0.699015\tvalid_0's l2: 0.488622\n",
      "Training until validation scores don't improve for 300 rounds\n",
      "[500]\tvalid_0's rmse: 0.777735\tvalid_0's l2: 0.604872\n",
      "[1000]\tvalid_0's rmse: 0.607938\tvalid_0's l2: 0.369588\n",
      "[1500]\tvalid_0's rmse: 0.548064\tvalid_0's l2: 0.300374\n",
      "[2000]\tvalid_0's rmse: 0.565202\tvalid_0's l2: 0.319454\n",
      "Did not meet early stopping. Best iteration is:\n",
      "[1771]\tvalid_0's rmse: 0.528552\tvalid_0's l2: 0.279367\n",
      "Training until validation scores don't improve for 300 rounds\n",
      "[500]\tvalid_0's rmse: 1.00737\tvalid_0's l2: 1.01479\n",
      "[1000]\tvalid_0's rmse: 0.891176\tvalid_0's l2: 0.794195\n",
      "[1500]\tvalid_0's rmse: 0.866213\tvalid_0's l2: 0.750326\n",
      "[2000]\tvalid_0's rmse: 0.853165\tvalid_0's l2: 0.727891\n",
      "Did not meet early stopping. Best iteration is:\n",
      "[1986]\tvalid_0's rmse: 0.849731\tvalid_0's l2: 0.722043\n",
      "Training until validation scores don't improve for 300 rounds\n",
      "[500]\tvalid_0's rmse: 1.12357\tvalid_0's l2: 1.26241\n",
      "[1000]\tvalid_0's rmse: 0.984625\tvalid_0's l2: 0.969486\n",
      "Early stopping, best iteration is:\n",
      "[997]\tvalid_0's rmse: 0.984324\tvalid_0's l2: 0.968895\n",
      "Training until validation scores don't improve for 300 rounds\n",
      "[500]\tvalid_0's rmse: 1.40122\tvalid_0's l2: 1.96341\n",
      "[1000]\tvalid_0's rmse: 1.29316\tvalid_0's l2: 1.67227\n",
      "[1500]\tvalid_0's rmse: 1.22976\tvalid_0's l2: 1.51231\n",
      "Early stopping, best iteration is:\n",
      "[1508]\tvalid_0's rmse: 1.22895\tvalid_0's l2: 1.51033\n"
     ]
    }
   ],
   "source": [
    "models = []\n",
    "\n",
    "folds = KFold(n_splits=10)\n",
    "for train_idx, val_idx in folds.split(train_data):\n",
    "    \n",
    "    train_x = train_data.iloc[train_idx, :]\n",
    "    train_y = train_label[train_idx]\n",
    "    val_x = train_data.iloc[val_idx, :]\n",
    "    val_y = train_label[val_idx]\n",
    "    \n",
    "    model = LGBMRegressor(objective= \"regression\",\n",
    "                          max_depth= 5,\n",
    "                          n_estimators= 2000,\n",
    "                          learning_rate= 0.01,\n",
    "                          num_leaves = 31)\n",
    "    \n",
    "    model.fit(train_x, train_y,\n",
    "              eval_set=[(val_x, val_y)],\n",
    "              eval_metric=[\"rmse\"],\n",
    "              early_stopping_rounds=300,\n",
    "              verbose=500)\n",
    "    \n",
    "    models.append(model)"
   ]
  },
  {
   "cell_type": "code",
   "execution_count": 17,
   "id": "519e2351-d9e9-48fe-9c28-a248a9ffb130",
   "metadata": {},
   "outputs": [],
   "source": [
    "result = []\n",
    "for i in models:\n",
    "    result.append(i.predict(test_data))\n",
    "    \n",
    "predict = np.mean(result, axis = 0)"
   ]
  },
  {
   "cell_type": "code",
   "execution_count": 18,
   "id": "beea07d6-bd26-4384-8b4a-3c98fe8bf58b",
   "metadata": {},
   "outputs": [
    {
     "data": {
      "text/plain": [
       "array([828.28265679, 828.16741041, 827.90559872, ..., 823.36436112,\n",
       "       821.08413307, 823.75633584])"
      ]
     },
     "execution_count": 18,
     "metadata": {},
     "output_type": "execute_result"
    }
   ],
   "source": [
    "predict"
   ]
  },
  {
   "cell_type": "code",
   "execution_count": 19,
   "id": "31d5df10-333a-4ee7-a3fe-059da9049551",
   "metadata": {},
   "outputs": [],
   "source": [
    "submission = pd.read_csv(\"sample_submission.csv\", encoding='cp949')"
   ]
  },
  {
   "cell_type": "code",
   "execution_count": 20,
   "id": "7c573b15-8104-4da7-b6ed-9242398cac81",
   "metadata": {},
   "outputs": [],
   "source": [
    "submission[\"hold_d\"] = np.round(predict)"
   ]
  },
  {
   "cell_type": "code",
   "execution_count": 21,
   "id": "a2dc3b84-fd2d-4e1e-8580-0c0b510232b7",
   "metadata": {},
   "outputs": [],
   "source": [
    "submission.to_csv('sub2_경제_lgbm.csv', header=True, index=False, encoding='cp949')"
   ]
  },
  {
   "cell_type": "markdown",
   "id": "05cbf864-91e8-45b6-9689-30c81b255acc",
   "metadata": {},
   "source": [
    "## 연도별로 차이 조금만 ㅠㅠ"
   ]
  },
  {
   "cell_type": "code",
   "execution_count": 25,
   "id": "5b26d1c1-9a0c-4d73-bba9-e23ba0d405bd",
   "metadata": {},
   "outputs": [],
   "source": [
    "train_eco['year']= train_eco['매수일자'].apply(lambda x: x[0:4])"
   ]
  },
  {
   "cell_type": "code",
   "execution_count": 26,
   "id": "ea23a566-c707-4561-a0b3-cd5dc5644d72",
   "metadata": {},
   "outputs": [],
   "source": [
    "train_eco['과거 보유일'] = np.nan\n",
    "\n",
    "train_eco2016 = train_eco[train_eco['year']=='2016'].copy()\n",
    "train_eco2016['과거 보유일'] = train_eco2016['보유기간(일)']*0.5\n",
    "\n",
    "train_eco2017 = train_eco[train_eco['year']=='2017'].copy()\n",
    "train_eco2017['과거 보유일'] = train_eco2017['보유기간(일)']*0.55\n",
    "\n",
    "train_eco2018 = train_eco[train_eco['year']=='2018'].copy()\n",
    "train_eco2018['과거 보유일'] = train_eco2018['보유기간(일)']*0.6\n",
    "\n",
    "train_eco2019 = train_eco[train_eco['year']=='2019'].copy()\n",
    "train_eco2019['과거 보유일'] = train_eco2019['보유기간(일)']*0.65\n",
    "\n",
    "train_eco2020 = train_eco[train_eco['year']=='2020'].copy()\n",
    "train_eco2020['과거 보유일'] = train_eco2020['보유기간(일)']*0.7"
   ]
  },
  {
   "cell_type": "code",
   "execution_count": 27,
   "id": "241d1852-3c92-4cc9-9123-3dbc317ba390",
   "metadata": {},
   "outputs": [],
   "source": [
    "train_year =pd.concat([train_eco2016,train_eco2017,train_eco2018,train_eco2019,train_eco2020], ignore_index=True)"
   ]
  },
  {
   "cell_type": "code",
   "execution_count": 28,
   "id": "4237c550-79b1-46d6-8071-f7ce2da54045",
   "metadata": {},
   "outputs": [],
   "source": [
    "train_year['과거 보유일'] = round(train_year['과거 보유일'],2)\n",
    "train_year = train_year.drop('year', axis=1, inplace=False)"
   ]
  },
  {
   "cell_type": "code",
   "execution_count": 29,
   "id": "b1c12fd7-bf46-4589-8b00-ccf8d6690af4",
   "metadata": {},
   "outputs": [],
   "source": [
    "train_data= pd.merge(train_year,iem, how='left', on='종목코드')\n",
    "train_data = pd.merge(train_data, cus,how='left', on='계좌 ID')\n",
    "\n",
    "test_data= pd.merge(test, iem, on='종목코드')\n",
    "test_data = pd.merge(test_data , cus, on='계좌 ID')"
   ]
  },
  {
   "cell_type": "code",
   "execution_count": 30,
   "id": "4d24e928-e6d9-4233-835a-9b94577cbb6f",
   "metadata": {},
   "outputs": [],
   "source": [
    "# train_data에서 Y값을 추출한 후 hold_d column을 지워주겠습니다.\n",
    "\n",
    "train_label = train_data[\"보유기간(일)\"]\n",
    "train_data.drop([\"보유기간(일)\"], axis = 1, inplace = True)"
   ]
  },
  {
   "cell_type": "code",
   "execution_count": 31,
   "id": "8ae31600-cf91-462d-86ee-66d11d10ac39",
   "metadata": {},
   "outputs": [],
   "source": [
    "train_data = pd.merge(train_data, hist, how = \"left\", on = [\"계좌 ID\", \"종목코드\"])\n",
    "train_data = train_data[(train_data[\"매수일자\"] == train_data[\"기준일자\"])] # 매수일 = 기준일자\n",
    "train_data.reset_index(drop = True, inplace = True)\n",
    "\n",
    "test_data = pd.merge(test_data, hist, how = \"left\", on = [\"계좌 ID\", \"종목코드\"])\n",
    "test_data = test_data[(test_data[\"매수일자\"] == test_data[\"기준일자\"])]\n",
    "test_data.reset_index(drop = True, inplace = True)\n",
    "\n",
    "train_data = train_data.drop([\"계좌 ID\", \"종목코드\", \"매수일자\", \"기준일자\"], axis = 1) # 계좌번호, 종목코드, 매수일, 기준일자\n",
    "test_data = test_data.drop([\"계좌 ID\", \"종목코드\", \"매수일자\", \"제출ID\",\"보유기간(일)\", \"기준일자\"], axis = 1)"
   ]
  },
  {
   "cell_type": "code",
   "execution_count": 32,
   "id": "9e267919-f4f1-41ee-a0e1-b2434636e451",
   "metadata": {},
   "outputs": [],
   "source": [
    "from sklearn.preprocessing import LabelEncoder\n",
    "L_encoder = LabelEncoder()\n",
    "L_encoder.fit(iem[\"종목한글명\"]) # 종목 한글명\n",
    "train_data[\"종목한글명\"] = L_encoder.transform(train_data[\"종목한글명\"])\n",
    "test_data[\"종목한글명\"] = L_encoder.transform(test_data[\"종목한글명\"])"
   ]
  },
  {
   "cell_type": "code",
   "execution_count": 33,
   "id": "02ffab3e-0b5d-43ae-ba1e-f8973d5d6070",
   "metadata": {},
   "outputs": [],
   "source": [
    "train_data.reset_index(drop = True, inplace=True)\n",
    "train_label.reset_index(drop = True, inplace=True)"
   ]
  },
  {
   "cell_type": "code",
   "execution_count": 34,
   "id": "d63a2169-b0b7-4fc8-bd9a-1817bc3d4762",
   "metadata": {},
   "outputs": [],
   "source": [
    "from sklearn.metrics import mean_squared_error as mse\n",
    "from sklearn.model_selection import train_test_split, StratifiedKFold, KFold\n",
    "from lightgbm import LGBMRegressor"
   ]
  },
  {
   "cell_type": "code",
   "execution_count": 35,
   "id": "a3079324-714a-4769-8a0c-ee87fc610442",
   "metadata": {},
   "outputs": [
    {
     "name": "stdout",
     "output_type": "stream",
     "text": [
      "Training until validation scores don't improve for 300 rounds\n",
      "[500]\tvalid_0's rmse: 11.3934\tvalid_0's l2: 129.809\n",
      "Early stopping, best iteration is:\n",
      "[687]\tvalid_0's rmse: 11.0602\tvalid_0's l2: 122.328\n",
      "Training until validation scores don't improve for 300 rounds\n",
      "[500]\tvalid_0's rmse: 2.08371\tvalid_0's l2: 4.34184\n",
      "[1000]\tvalid_0's rmse: 1.80467\tvalid_0's l2: 3.25682\n",
      "Early stopping, best iteration is:\n",
      "[1071]\tvalid_0's rmse: 1.80054\tvalid_0's l2: 3.24196\n",
      "Training until validation scores don't improve for 300 rounds\n",
      "[500]\tvalid_0's rmse: 1.68977\tvalid_0's l2: 2.85533\n",
      "[1000]\tvalid_0's rmse: 1.36152\tvalid_0's l2: 1.85374\n",
      "[1500]\tvalid_0's rmse: 1.25843\tvalid_0's l2: 1.58364\n",
      "[2000]\tvalid_0's rmse: 1.21418\tvalid_0's l2: 1.47424\n",
      "Did not meet early stopping. Best iteration is:\n",
      "[1999]\tvalid_0's rmse: 1.2141\tvalid_0's l2: 1.47405\n",
      "Training until validation scores don't improve for 300 rounds\n",
      "[500]\tvalid_0's rmse: 1.55833\tvalid_0's l2: 2.42841\n",
      "[1000]\tvalid_0's rmse: 1.3663\tvalid_0's l2: 1.86677\n",
      "Early stopping, best iteration is:\n",
      "[939]\tvalid_0's rmse: 1.34247\tvalid_0's l2: 1.80222\n",
      "Training until validation scores don't improve for 300 rounds\n",
      "[500]\tvalid_0's rmse: 0.813231\tvalid_0's l2: 0.661345\n",
      "Early stopping, best iteration is:\n",
      "[387]\tvalid_0's rmse: 0.701575\tvalid_0's l2: 0.492207\n",
      "Training until validation scores don't improve for 300 rounds\n",
      "[500]\tvalid_0's rmse: 0.457844\tvalid_0's l2: 0.209621\n",
      "[1000]\tvalid_0's rmse: 0.487344\tvalid_0's l2: 0.237504\n",
      "Early stopping, best iteration is:\n",
      "[753]\tvalid_0's rmse: 0.429698\tvalid_0's l2: 0.18464\n",
      "Training until validation scores don't improve for 300 rounds\n",
      "[500]\tvalid_0's rmse: 0.500172\tvalid_0's l2: 0.250172\n",
      "[1000]\tvalid_0's rmse: 0.398126\tvalid_0's l2: 0.158505\n",
      "[1500]\tvalid_0's rmse: 0.346859\tvalid_0's l2: 0.120311\n",
      "[2000]\tvalid_0's rmse: 0.474995\tvalid_0's l2: 0.22562\n",
      "Did not meet early stopping. Best iteration is:\n",
      "[1764]\tvalid_0's rmse: 0.326736\tvalid_0's l2: 0.106757\n",
      "Training until validation scores don't improve for 300 rounds\n",
      "[500]\tvalid_0's rmse: 0.638401\tvalid_0's l2: 0.407556\n",
      "[1000]\tvalid_0's rmse: 0.579548\tvalid_0's l2: 0.335876\n",
      "[1500]\tvalid_0's rmse: 0.558636\tvalid_0's l2: 0.312074\n",
      "[2000]\tvalid_0's rmse: 0.551699\tvalid_0's l2: 0.304371\n",
      "Did not meet early stopping. Best iteration is:\n",
      "[1992]\tvalid_0's rmse: 0.551658\tvalid_0's l2: 0.304327\n",
      "Training until validation scores don't improve for 300 rounds\n",
      "[500]\tvalid_0's rmse: 0.687102\tvalid_0's l2: 0.472109\n",
      "[1000]\tvalid_0's rmse: 0.638379\tvalid_0's l2: 0.407528\n",
      "[1500]\tvalid_0's rmse: 0.61623\tvalid_0's l2: 0.379739\n",
      "[2000]\tvalid_0's rmse: 0.604413\tvalid_0's l2: 0.365315\n",
      "Did not meet early stopping. Best iteration is:\n",
      "[1998]\tvalid_0's rmse: 0.604381\tvalid_0's l2: 0.365277\n",
      "Training until validation scores don't improve for 300 rounds\n",
      "[500]\tvalid_0's rmse: 0.794122\tvalid_0's l2: 0.63063\n",
      "Early stopping, best iteration is:\n",
      "[383]\tvalid_0's rmse: 0.766577\tvalid_0's l2: 0.58764\n"
     ]
    }
   ],
   "source": [
    "models = []\n",
    "\n",
    "folds = KFold(n_splits=10)\n",
    "for train_idx, val_idx in folds.split(train_data):\n",
    "    \n",
    "    train_x = train_data.iloc[train_idx, :]\n",
    "    train_y = train_label[train_idx]\n",
    "    val_x = train_data.iloc[val_idx, :]\n",
    "    val_y = train_label[val_idx]\n",
    "    \n",
    "    model = LGBMRegressor(objective= \"regression\",\n",
    "                          max_depth= 5,\n",
    "                          n_estimators= 2000,\n",
    "                          learning_rate= 0.01,\n",
    "                          num_leaves = 31)\n",
    "    \n",
    "    model.fit(train_x, train_y,\n",
    "              eval_set=[(val_x, val_y)],\n",
    "              eval_metric=[\"rmse\"],\n",
    "              early_stopping_rounds=300,\n",
    "              verbose=500)\n",
    "    \n",
    "    models.append(model)"
   ]
  },
  {
   "cell_type": "code",
   "execution_count": 36,
   "id": "74d21b5e-61ae-4b44-b95a-3faf5bfa0fb9",
   "metadata": {},
   "outputs": [],
   "source": [
    "result = []\n",
    "for i in models:\n",
    "    result.append(i.predict(test_data))\n",
    "    \n",
    "predict = np.mean(result, axis = 0)"
   ]
  },
  {
   "cell_type": "code",
   "execution_count": 37,
   "id": "594b7cba-5492-4914-8146-22cbd8cda0d7",
   "metadata": {},
   "outputs": [
    {
     "data": {
      "text/plain": [
       "array([812.46421391, 800.11151477, 802.65279991, ..., 801.27180093,\n",
       "       799.07530899, 795.86660427])"
      ]
     },
     "execution_count": 37,
     "metadata": {},
     "output_type": "execute_result"
    }
   ],
   "source": [
    "predict"
   ]
  },
  {
   "cell_type": "code",
   "execution_count": 38,
   "id": "56851b17-ce84-4b85-94bb-a44d188fdfa3",
   "metadata": {},
   "outputs": [],
   "source": [
    "# submission = pd.read_csv(\"sample_submission.csv\", encoding='cp949')"
   ]
  },
  {
   "cell_type": "code",
   "execution_count": 20,
   "id": "36421a1c-7991-4a43-8d8a-af86d0da854a",
   "metadata": {},
   "outputs": [],
   "source": [
    "# submission[\"hold_d\"] = np.round(predict)"
   ]
  },
  {
   "cell_type": "code",
   "execution_count": 21,
   "id": "2e31b24a-ddd7-4185-8bbb-4fc71b622b5e",
   "metadata": {},
   "outputs": [],
   "source": [
    "# submission.to_csv('sub2_경제_lgbm.csv', header=True, index=False, encoding='cp949')"
   ]
  },
  {
   "cell_type": "markdown",
   "id": "25d71ccc-0ddb-499b-a267-fe527354857c",
   "metadata": {},
   "source": [
    "## 연도별로 조금 줄이고..."
   ]
  },
  {
   "cell_type": "code",
   "execution_count": 45,
   "id": "e1ff441e-2a99-4a5b-aaa8-8b43a46dddfa",
   "metadata": {},
   "outputs": [],
   "source": [
    "train_eco = pd.read_csv(\"train_경제지표.csv\", encoding='cp949')\n",
    "train_eco['year']= train_eco['매수일자'].apply(lambda x: x[0:4])"
   ]
  },
  {
   "cell_type": "code",
   "execution_count": 46,
   "id": "e6821072-c680-4271-84ac-ceaef2ce48aa",
   "metadata": {},
   "outputs": [],
   "source": [
    "train_eco['과거 보유일'] = np.nan\n",
    "\n",
    "train_eco2016 = train_eco[train_eco['year']=='2016'].copy()\n",
    "train_eco2016['과거 보유일'] = train_eco2016['보유기간(일)']*0.5\n",
    "\n",
    "train_eco2017 = train_eco[train_eco['year']=='2017'].copy()\n",
    "train_eco2017['과거 보유일'] = train_eco2017['보유기간(일)']*0.525\n",
    "\n",
    "train_eco2018 = train_eco[train_eco['year']=='2018'].copy()\n",
    "train_eco2018['과거 보유일'] = train_eco2018['보유기간(일)']*0.55\n",
    "\n",
    "train_eco2019 = train_eco[train_eco['year']=='2019'].copy()\n",
    "train_eco2019['과거 보유일'] = train_eco2019['보유기간(일)']*0.575\n",
    "\n",
    "train_eco2020 = train_eco[train_eco['year']=='2020'].copy()\n",
    "train_eco2020['과거 보유일'] = train_eco2020['보유기간(일)']*0.6"
   ]
  },
  {
   "cell_type": "code",
   "execution_count": 47,
   "id": "fb48dfe1-14c1-4d49-a245-2c42dc1a4a21",
   "metadata": {},
   "outputs": [],
   "source": [
    "train_year =pd.concat([train_eco2016,train_eco2017,train_eco2018,train_eco2019,train_eco2020], ignore_index=True)"
   ]
  },
  {
   "cell_type": "code",
   "execution_count": 48,
   "id": "a9d63e6a-5027-4197-9bf7-05b9f1776513",
   "metadata": {},
   "outputs": [],
   "source": [
    "train_year['과거 보유일'] = round(train_year['과거 보유일'],2)\n",
    "train_year = train_year.drop('year', axis=1, inplace=False)"
   ]
  },
  {
   "cell_type": "code",
   "execution_count": 49,
   "id": "02fbf6d7-b73d-4d64-a8f0-4ca9eadc5cc2",
   "metadata": {},
   "outputs": [],
   "source": [
    "train_data= pd.merge(train_year,iem, how='left', on='종목코드')\n",
    "train_data = pd.merge(train_data, cus,how='left', on='계좌 ID')\n",
    "\n",
    "test_data= pd.merge(test, iem, on='종목코드')\n",
    "test_data = pd.merge(test_data , cus, on='계좌 ID')"
   ]
  },
  {
   "cell_type": "code",
   "execution_count": 50,
   "id": "226a985f-2f9a-4ece-9ab6-08ee989d2acd",
   "metadata": {},
   "outputs": [],
   "source": [
    "# train_data에서 Y값을 추출한 후 hold_d column을 지워주겠습니다.\n",
    "\n",
    "train_label = train_data[\"보유기간(일)\"]\n",
    "train_data.drop([\"보유기간(일)\"], axis = 1, inplace = True)"
   ]
  },
  {
   "cell_type": "code",
   "execution_count": 51,
   "id": "949ef857-5275-47c8-beea-d448505d1794",
   "metadata": {},
   "outputs": [],
   "source": [
    "train_data = pd.merge(train_data, hist, how = \"left\", on = [\"계좌 ID\", \"종목코드\"])\n",
    "train_data = train_data[(train_data[\"매수일자\"] == train_data[\"기준일자\"])] # 매수일 = 기준일자\n",
    "train_data.reset_index(drop = True, inplace = True)\n",
    "\n",
    "test_data = pd.merge(test_data, hist, how = \"left\", on = [\"계좌 ID\", \"종목코드\"])\n",
    "test_data = test_data[(test_data[\"매수일자\"] == test_data[\"기준일자\"])]\n",
    "test_data.reset_index(drop = True, inplace = True)\n",
    "\n",
    "train_data = train_data.drop([\"계좌 ID\", \"종목코드\", \"매수일자\", \"기준일자\"], axis = 1) # 계좌번호, 종목코드, 매수일, 기준일자\n",
    "test_data = test_data.drop([\"계좌 ID\", \"종목코드\", \"매수일자\", \"제출ID\",\"보유기간(일)\", \"기준일자\"], axis = 1)"
   ]
  },
  {
   "cell_type": "code",
   "execution_count": 52,
   "id": "c208698e-9933-45ae-a911-d6270df73f63",
   "metadata": {},
   "outputs": [],
   "source": [
    "from sklearn.preprocessing import LabelEncoder\n",
    "L_encoder = LabelEncoder()\n",
    "L_encoder.fit(iem[\"종목한글명\"]) # 종목 한글명\n",
    "train_data[\"종목한글명\"] = L_encoder.transform(train_data[\"종목한글명\"])\n",
    "test_data[\"종목한글명\"] = L_encoder.transform(test_data[\"종목한글명\"])"
   ]
  },
  {
   "cell_type": "code",
   "execution_count": 53,
   "id": "18087cc1-a10a-4517-bc44-c4adaab29786",
   "metadata": {},
   "outputs": [],
   "source": [
    "train_data.reset_index(drop = True, inplace=True)\n",
    "train_label.reset_index(drop = True, inplace=True)"
   ]
  },
  {
   "cell_type": "code",
   "execution_count": 54,
   "id": "1a109ea5-4f18-40b3-8c3b-167410fdc0c1",
   "metadata": {},
   "outputs": [],
   "source": [
    "from sklearn.metrics import mean_squared_error as mse\n",
    "from sklearn.model_selection import train_test_split, StratifiedKFold, KFold\n",
    "from lightgbm import LGBMRegressor"
   ]
  },
  {
   "cell_type": "code",
   "execution_count": 55,
   "id": "4c7d15ac-2233-4828-9875-ce236684c547",
   "metadata": {},
   "outputs": [
    {
     "name": "stdout",
     "output_type": "stream",
     "text": [
      "Training until validation scores don't improve for 300 rounds\n",
      "[500]\tvalid_0's rmse: 10.0373\tvalid_0's l2: 100.747\n",
      "[1000]\tvalid_0's rmse: 9.64962\tvalid_0's l2: 93.1151\n",
      "[1500]\tvalid_0's rmse: 9.67458\tvalid_0's l2: 93.5975\n",
      "Early stopping, best iteration is:\n",
      "[1261]\tvalid_0's rmse: 9.64669\tvalid_0's l2: 93.0585\n",
      "Training until validation scores don't improve for 300 rounds\n",
      "[500]\tvalid_0's rmse: 1.63744\tvalid_0's l2: 2.68121\n",
      "[1000]\tvalid_0's rmse: 1.42245\tvalid_0's l2: 2.02337\n",
      "[1500]\tvalid_0's rmse: 1.41511\tvalid_0's l2: 2.00252\n",
      "Early stopping, best iteration is:\n",
      "[1473]\tvalid_0's rmse: 1.41473\tvalid_0's l2: 2.00147\n",
      "Training until validation scores don't improve for 300 rounds\n",
      "[500]\tvalid_0's rmse: 1.11769\tvalid_0's l2: 1.24923\n",
      "[1000]\tvalid_0's rmse: 0.839044\tvalid_0's l2: 0.703994\n",
      "[1500]\tvalid_0's rmse: 0.797158\tvalid_0's l2: 0.635461\n",
      "[2000]\tvalid_0's rmse: 0.777404\tvalid_0's l2: 0.604357\n",
      "Did not meet early stopping. Best iteration is:\n",
      "[1993]\tvalid_0's rmse: 0.777382\tvalid_0's l2: 0.604323\n",
      "Training until validation scores don't improve for 300 rounds\n",
      "[500]\tvalid_0's rmse: 0.980281\tvalid_0's l2: 0.960951\n",
      "[1000]\tvalid_0's rmse: 0.826467\tvalid_0's l2: 0.683048\n",
      "[1500]\tvalid_0's rmse: 0.821436\tvalid_0's l2: 0.674757\n",
      "[2000]\tvalid_0's rmse: 0.819036\tvalid_0's l2: 0.67082\n",
      "Did not meet early stopping. Best iteration is:\n",
      "[1897]\tvalid_0's rmse: 0.818618\tvalid_0's l2: 0.670135\n",
      "Training until validation scores don't improve for 300 rounds\n",
      "[500]\tvalid_0's rmse: 0.433282\tvalid_0's l2: 0.187733\n",
      "Early stopping, best iteration is:\n",
      "[439]\tvalid_0's rmse: 0.40786\tvalid_0's l2: 0.16635\n",
      "Training until validation scores don't improve for 300 rounds\n",
      "[500]\tvalid_0's rmse: 0.267281\tvalid_0's l2: 0.0714389\n",
      "[1000]\tvalid_0's rmse: 0.247345\tvalid_0's l2: 0.0611794\n",
      "[1500]\tvalid_0's rmse: 0.237553\tvalid_0's l2: 0.0564316\n",
      "[2000]\tvalid_0's rmse: 0.220204\tvalid_0's l2: 0.0484896\n",
      "Did not meet early stopping. Best iteration is:\n",
      "[1991]\tvalid_0's rmse: 0.220041\tvalid_0's l2: 0.0484182\n",
      "Training until validation scores don't improve for 300 rounds\n",
      "[500]\tvalid_0's rmse: 0.290813\tvalid_0's l2: 0.0845719\n",
      "[1000]\tvalid_0's rmse: 0.244926\tvalid_0's l2: 0.059989\n",
      "[1500]\tvalid_0's rmse: 0.216348\tvalid_0's l2: 0.0468065\n",
      "[2000]\tvalid_0's rmse: 0.218913\tvalid_0's l2: 0.0479229\n",
      "Did not meet early stopping. Best iteration is:\n",
      "[1769]\tvalid_0's rmse: 0.210589\tvalid_0's l2: 0.0443476\n",
      "Training until validation scores don't improve for 300 rounds\n",
      "[500]\tvalid_0's rmse: 0.357758\tvalid_0's l2: 0.127991\n",
      "[1000]\tvalid_0's rmse: 0.344624\tvalid_0's l2: 0.118766\n",
      "[1500]\tvalid_0's rmse: 0.335654\tvalid_0's l2: 0.112663\n",
      "Early stopping, best iteration is:\n",
      "[1524]\tvalid_0's rmse: 0.33477\tvalid_0's l2: 0.112071\n",
      "Training until validation scores don't improve for 300 rounds\n",
      "[500]\tvalid_0's rmse: 0.392771\tvalid_0's l2: 0.154269\n",
      "[1000]\tvalid_0's rmse: 0.378494\tvalid_0's l2: 0.143258\n",
      "Early stopping, best iteration is:\n",
      "[1157]\tvalid_0's rmse: 0.367555\tvalid_0's l2: 0.135097\n",
      "Training until validation scores don't improve for 300 rounds\n",
      "[500]\tvalid_0's rmse: 0.427734\tvalid_0's l2: 0.182957\n",
      "[1000]\tvalid_0's rmse: 0.398138\tvalid_0's l2: 0.158514\n",
      "[1500]\tvalid_0's rmse: 0.388611\tvalid_0's l2: 0.151018\n",
      "[2000]\tvalid_0's rmse: 0.375051\tvalid_0's l2: 0.140663\n",
      "Did not meet early stopping. Best iteration is:\n",
      "[1997]\tvalid_0's rmse: 0.375027\tvalid_0's l2: 0.140645\n"
     ]
    }
   ],
   "source": [
    "models = []\n",
    "\n",
    "folds = KFold(n_splits=10)\n",
    "for train_idx, val_idx in folds.split(train_data):\n",
    "    \n",
    "    train_x = train_data.iloc[train_idx, :]\n",
    "    train_y = train_label[train_idx]\n",
    "    val_x = train_data.iloc[val_idx, :]\n",
    "    val_y = train_label[val_idx]\n",
    "    \n",
    "    model = LGBMRegressor(objective= \"regression\",\n",
    "                          max_depth= 5,\n",
    "                          n_estimators= 2000,\n",
    "                          learning_rate= 0.01,\n",
    "                          num_leaves = 31)\n",
    "    \n",
    "    model.fit(train_x, train_y,\n",
    "              eval_set=[(val_x, val_y)],\n",
    "              eval_metric=[\"rmse\"],\n",
    "              early_stopping_rounds=300,\n",
    "              verbose=500)\n",
    "    \n",
    "    models.append(model)"
   ]
  },
  {
   "cell_type": "code",
   "execution_count": 56,
   "id": "66dd3d09-06ca-46e5-9cfe-e075d3919363",
   "metadata": {},
   "outputs": [],
   "source": [
    "result = []\n",
    "for i in models:\n",
    "    result.append(i.predict(test_data))\n",
    "    \n",
    "predict = np.mean(result, axis = 0)"
   ]
  },
  {
   "cell_type": "code",
   "execution_count": 57,
   "id": "bd2d9a28-f763-4583-8e3a-895d76a9e9e6",
   "metadata": {},
   "outputs": [
    {
     "data": {
      "text/plain": [
       "array([786.53642972, 765.60289347, 764.55299342, ..., 758.44293294,\n",
       "       751.02431709, 763.99008309])"
      ]
     },
     "execution_count": 57,
     "metadata": {},
     "output_type": "execute_result"
    }
   ],
   "source": [
    "predict"
   ]
  },
  {
   "cell_type": "markdown",
   "id": "c07d66eb-31f0-4a8e-93ea-c72295d23277",
   "metadata": {},
   "source": [
    "## 가중치 반대로"
   ]
  },
  {
   "cell_type": "code",
   "execution_count": 59,
   "id": "8d1184b8-4794-41cf-b2e2-de027926f96b",
   "metadata": {},
   "outputs": [],
   "source": [
    "train_eco = pd.read_csv(\"train_경제지표.csv\", encoding='cp949')\n",
    "train_eco['year']= train_eco['매수일자'].apply(lambda x: x[0:4])"
   ]
  },
  {
   "cell_type": "code",
   "execution_count": 60,
   "id": "984384cd-058e-4631-b6a5-331ae2135877",
   "metadata": {},
   "outputs": [],
   "source": [
    "train_eco['과거 보유일'] = np.nan\n",
    "\n",
    "train_eco2016 = train_eco[train_eco['year']=='2016'].copy()\n",
    "train_eco2016['과거 보유일'] = train_eco2016['보유기간(일)']*0.7\n",
    "\n",
    "train_eco2017 = train_eco[train_eco['year']=='2017'].copy()\n",
    "train_eco2017['과거 보유일'] = train_eco2017['보유기간(일)']*0.65\n",
    "\n",
    "train_eco2018 = train_eco[train_eco['year']=='2018'].copy()\n",
    "train_eco2018['과거 보유일'] = train_eco2018['보유기간(일)']*0.6\n",
    "\n",
    "train_eco2019 = train_eco[train_eco['year']=='2019'].copy()\n",
    "train_eco2019['과거 보유일'] = train_eco2019['보유기간(일)']*0.55\n",
    "\n",
    "train_eco2020 = train_eco[train_eco['year']=='2020'].copy()\n",
    "train_eco2020['과거 보유일'] = train_eco2020['보유기간(일)']*0.5"
   ]
  },
  {
   "cell_type": "code",
   "execution_count": 61,
   "id": "95897fbd-20fd-4bd7-b7c9-464a8d0b56c8",
   "metadata": {},
   "outputs": [],
   "source": [
    "train_year =pd.concat([train_eco2016,train_eco2017,train_eco2018,train_eco2019,train_eco2020], ignore_index=True)"
   ]
  },
  {
   "cell_type": "code",
   "execution_count": 62,
   "id": "07b28b60-54e9-4915-9c08-8a6ae3c1c8d6",
   "metadata": {},
   "outputs": [],
   "source": [
    "train_year['과거 보유일'] = round(train_year['과거 보유일'],2)\n",
    "train_year = train_year.drop('year', axis=1, inplace=False)"
   ]
  },
  {
   "cell_type": "code",
   "execution_count": 63,
   "id": "1981174f-3528-4e66-9017-445abb7bb810",
   "metadata": {},
   "outputs": [],
   "source": [
    "train_data= pd.merge(train_year,iem, how='left', on='종목코드')\n",
    "train_data = pd.merge(train_data, cus,how='left', on='계좌 ID')\n",
    "\n",
    "test_data= pd.merge(test, iem, on='종목코드')\n",
    "test_data = pd.merge(test_data , cus, on='계좌 ID')"
   ]
  },
  {
   "cell_type": "code",
   "execution_count": 64,
   "id": "dd77953c-f88e-4527-b908-73a878e231fc",
   "metadata": {},
   "outputs": [],
   "source": [
    "# train_data에서 Y값을 추출한 후 hold_d column을 지워주겠습니다.\n",
    "\n",
    "train_label = train_data[\"보유기간(일)\"]\n",
    "train_data.drop([\"보유기간(일)\"], axis = 1, inplace = True)"
   ]
  },
  {
   "cell_type": "code",
   "execution_count": 65,
   "id": "411bbe53-60b4-4cff-bb94-839c5b653aa1",
   "metadata": {},
   "outputs": [],
   "source": [
    "train_data = pd.merge(train_data, hist, how = \"left\", on = [\"계좌 ID\", \"종목코드\"])\n",
    "train_data = train_data[(train_data[\"매수일자\"] == train_data[\"기준일자\"])] # 매수일 = 기준일자\n",
    "train_data.reset_index(drop = True, inplace = True)\n",
    "\n",
    "test_data = pd.merge(test_data, hist, how = \"left\", on = [\"계좌 ID\", \"종목코드\"])\n",
    "test_data = test_data[(test_data[\"매수일자\"] == test_data[\"기준일자\"])]\n",
    "test_data.reset_index(drop = True, inplace = True)\n",
    "\n",
    "train_data = train_data.drop([\"계좌 ID\", \"종목코드\", \"매수일자\", \"기준일자\"], axis = 1) # 계좌번호, 종목코드, 매수일, 기준일자\n",
    "test_data = test_data.drop([\"계좌 ID\", \"종목코드\", \"매수일자\", \"제출ID\",\"보유기간(일)\", \"기준일자\"], axis = 1)"
   ]
  },
  {
   "cell_type": "code",
   "execution_count": 66,
   "id": "08d2c4a4-d656-4671-9132-5ac0dd28355e",
   "metadata": {},
   "outputs": [],
   "source": [
    "from sklearn.preprocessing import LabelEncoder\n",
    "L_encoder = LabelEncoder()\n",
    "L_encoder.fit(iem[\"종목한글명\"]) # 종목 한글명\n",
    "train_data[\"종목한글명\"] = L_encoder.transform(train_data[\"종목한글명\"])\n",
    "test_data[\"종목한글명\"] = L_encoder.transform(test_data[\"종목한글명\"])"
   ]
  },
  {
   "cell_type": "code",
   "execution_count": 67,
   "id": "6f96e457-975e-45ae-b818-4901c5fb066f",
   "metadata": {},
   "outputs": [],
   "source": [
    "train_data.reset_index(drop = True, inplace=True)\n",
    "train_label.reset_index(drop = True, inplace=True)"
   ]
  },
  {
   "cell_type": "code",
   "execution_count": 68,
   "id": "b0b495d6-ace6-443f-ad09-fdfb4ab61a1e",
   "metadata": {},
   "outputs": [],
   "source": [
    "from sklearn.metrics import mean_squared_error as mse\n",
    "from sklearn.model_selection import train_test_split, StratifiedKFold, KFold\n",
    "from lightgbm import LGBMRegressor"
   ]
  },
  {
   "cell_type": "code",
   "execution_count": 69,
   "id": "9a9d204e-70ea-4fad-a026-f29b38ce34d7",
   "metadata": {},
   "outputs": [
    {
     "name": "stdout",
     "output_type": "stream",
     "text": [
      "Training until validation scores don't improve for 300 rounds\n",
      "[500]\tvalid_0's rmse: 11.082\tvalid_0's l2: 122.812\n",
      "[1000]\tvalid_0's rmse: 11.0682\tvalid_0's l2: 122.506\n",
      "Early stopping, best iteration is:\n",
      "[796]\tvalid_0's rmse: 11.037\tvalid_0's l2: 121.815\n",
      "Training until validation scores don't improve for 300 rounds\n",
      "[500]\tvalid_0's rmse: 2.00656\tvalid_0's l2: 4.0263\n",
      "[1000]\tvalid_0's rmse: 1.88836\tvalid_0's l2: 3.5659\n",
      "Early stopping, best iteration is:\n",
      "[929]\tvalid_0's rmse: 1.88115\tvalid_0's l2: 3.53873\n",
      "Training until validation scores don't improve for 300 rounds\n",
      "[500]\tvalid_0's rmse: 1.83698\tvalid_0's l2: 3.3745\n",
      "[1000]\tvalid_0's rmse: 1.60194\tvalid_0's l2: 2.56623\n",
      "[1500]\tvalid_0's rmse: 1.51949\tvalid_0's l2: 2.30884\n",
      "[2000]\tvalid_0's rmse: 1.48237\tvalid_0's l2: 2.19742\n",
      "Did not meet early stopping. Best iteration is:\n",
      "[2000]\tvalid_0's rmse: 1.48237\tvalid_0's l2: 2.19742\n",
      "Training until validation scores don't improve for 300 rounds\n",
      "[500]\tvalid_0's rmse: 1.94333\tvalid_0's l2: 3.77653\n",
      "[1000]\tvalid_0's rmse: 1.32856\tvalid_0's l2: 1.76508\n",
      "[1500]\tvalid_0's rmse: 1.30865\tvalid_0's l2: 1.71257\n",
      "Early stopping, best iteration is:\n",
      "[1418]\tvalid_0's rmse: 1.30272\tvalid_0's l2: 1.69709\n",
      "Training until validation scores don't improve for 300 rounds\n",
      "[500]\tvalid_0's rmse: 1.05393\tvalid_0's l2: 1.11078\n",
      "[1000]\tvalid_0's rmse: 0.954833\tvalid_0's l2: 0.911706\n",
      "[1500]\tvalid_0's rmse: 0.925872\tvalid_0's l2: 0.857239\n",
      "[2000]\tvalid_0's rmse: 0.913703\tvalid_0's l2: 0.834853\n",
      "Did not meet early stopping. Best iteration is:\n",
      "[1998]\tvalid_0's rmse: 0.913691\tvalid_0's l2: 0.834831\n",
      "Training until validation scores don't improve for 300 rounds\n",
      "[500]\tvalid_0's rmse: 0.603775\tvalid_0's l2: 0.364544\n",
      "[1000]\tvalid_0's rmse: 0.432267\tvalid_0's l2: 0.186855\n",
      "[1500]\tvalid_0's rmse: 0.401867\tvalid_0's l2: 0.161497\n",
      "[2000]\tvalid_0's rmse: 0.38841\tvalid_0's l2: 0.150862\n",
      "Did not meet early stopping. Best iteration is:\n",
      "[1961]\tvalid_0's rmse: 0.384893\tvalid_0's l2: 0.148142\n",
      "Training until validation scores don't improve for 300 rounds\n",
      "[500]\tvalid_0's rmse: 0.692096\tvalid_0's l2: 0.478996\n",
      "[1000]\tvalid_0's rmse: 0.436351\tvalid_0's l2: 0.190402\n",
      "Early stopping, best iteration is:\n",
      "[1182]\tvalid_0's rmse: 0.417389\tvalid_0's l2: 0.174213\n",
      "Training until validation scores don't improve for 300 rounds\n",
      "[500]\tvalid_0's rmse: 0.860655\tvalid_0's l2: 0.740727\n",
      "[1000]\tvalid_0's rmse: 0.679491\tvalid_0's l2: 0.461708\n",
      "[1500]\tvalid_0's rmse: 0.664286\tvalid_0's l2: 0.441276\n",
      "[2000]\tvalid_0's rmse: 0.67204\tvalid_0's l2: 0.451638\n",
      "Did not meet early stopping. Best iteration is:\n",
      "[1853]\tvalid_0's rmse: 0.657287\tvalid_0's l2: 0.432026\n",
      "Training until validation scores don't improve for 300 rounds\n",
      "[500]\tvalid_0's rmse: 1.00048\tvalid_0's l2: 1.00095\n",
      "[1000]\tvalid_0's rmse: 0.743507\tvalid_0's l2: 0.552803\n",
      "[1500]\tvalid_0's rmse: 0.706325\tvalid_0's l2: 0.498895\n",
      "[2000]\tvalid_0's rmse: 0.696183\tvalid_0's l2: 0.484671\n",
      "Did not meet early stopping. Best iteration is:\n",
      "[1983]\tvalid_0's rmse: 0.696002\tvalid_0's l2: 0.484418\n",
      "Training until validation scores don't improve for 300 rounds\n",
      "[500]\tvalid_0's rmse: 1.03232\tvalid_0's l2: 1.06569\n",
      "[1000]\tvalid_0's rmse: 0.729505\tvalid_0's l2: 0.532178\n",
      "[1500]\tvalid_0's rmse: 0.690219\tvalid_0's l2: 0.476402\n",
      "[2000]\tvalid_0's rmse: 0.671418\tvalid_0's l2: 0.450803\n",
      "Did not meet early stopping. Best iteration is:\n",
      "[2000]\tvalid_0's rmse: 0.671418\tvalid_0's l2: 0.450803\n"
     ]
    }
   ],
   "source": [
    "models = []\n",
    "\n",
    "folds = KFold(n_splits=10)\n",
    "for train_idx, val_idx in folds.split(train_data):\n",
    "    \n",
    "    train_x = train_data.iloc[train_idx, :]\n",
    "    train_y = train_label[train_idx]\n",
    "    val_x = train_data.iloc[val_idx, :]\n",
    "    val_y = train_label[val_idx]\n",
    "    \n",
    "    model = LGBMRegressor(objective= \"regression\",\n",
    "                          max_depth= 5,\n",
    "                          n_estimators= 2000,\n",
    "                          learning_rate= 0.01,\n",
    "                          num_leaves = 31)\n",
    "    \n",
    "    model.fit(train_x, train_y,\n",
    "              eval_set=[(val_x, val_y)],\n",
    "              eval_metric=[\"rmse\"],\n",
    "              early_stopping_rounds=300,\n",
    "              verbose=500)\n",
    "    \n",
    "    models.append(model)"
   ]
  },
  {
   "cell_type": "code",
   "execution_count": 70,
   "id": "061ab637-1585-42c3-97e3-1beb758faae7",
   "metadata": {},
   "outputs": [],
   "source": [
    "result = []\n",
    "for i in models:\n",
    "    result.append(i.predict(test_data))\n",
    "    \n",
    "predict = np.mean(result, axis = 0)"
   ]
  },
  {
   "cell_type": "code",
   "execution_count": 71,
   "id": "634226eb-765d-495b-8a9b-fc2a6a0b2651",
   "metadata": {},
   "outputs": [
    {
     "data": {
      "text/plain": [
       "array([757.37111239, 716.38747406, 726.70232886, ..., 685.79821799,\n",
       "       679.98769496, 663.99059385])"
      ]
     },
     "execution_count": 71,
     "metadata": {},
     "output_type": "execute_result"
    }
   ],
   "source": [
    "predict"
   ]
  },
  {
   "cell_type": "markdown",
   "id": "9802108c-9d2d-47b1-b636-71cb69fb919c",
   "metadata": {},
   "source": [
    "## dacon baseline으로 "
   ]
  },
  {
   "cell_type": "code",
   "execution_count": 40,
   "id": "f41726c1-f47c-4805-919b-597052fccbb4",
   "metadata": {},
   "outputs": [],
   "source": [
    "train_eco = pd.read_csv(\"train_경제지표.csv\", encoding='cp949')\n",
    "test = pd.read_csv(\"test_경제지표.csv\", encoding='cp949')"
   ]
  },
  {
   "cell_type": "code",
   "execution_count": 41,
   "id": "d83adc02-5959-4805-ab86-e5d8bb81a051",
   "metadata": {},
   "outputs": [],
   "source": [
    "train_data= pd.merge(train_eco,iem, how='left', on='종목코드')\n",
    "train_data = pd.merge(train_data, cus,how='left', on='계좌 ID')\n",
    "\n",
    "test_data= pd.merge(test, iem, on='종목코드')\n",
    "test_data = pd.merge(test_data , cus, on='계좌 ID')"
   ]
  },
  {
   "cell_type": "code",
   "execution_count": 42,
   "id": "47d91e58-a206-4de8-9f08-07360316f7ea",
   "metadata": {},
   "outputs": [],
   "source": [
    "train_data['과거 보유일'] = train_data['보유기간(일)']*0.6\n",
    "train_data['과거 보유일'] = round(train_data['과거 보유일'],2)"
   ]
  },
  {
   "cell_type": "code",
   "execution_count": 43,
   "id": "2a963468-279a-4190-8c70-a8ff499edda0",
   "metadata": {},
   "outputs": [],
   "source": [
    "# train_data에서 Y값을 추출한 후 hold_d column을 지워주겠습니다.\n",
    "\n",
    "train_label = train_data[\"보유기간(일)\"]\n",
    "train_data.drop([\"보유기간(일)\"], axis = 1, inplace = True)"
   ]
  },
  {
   "cell_type": "code",
   "execution_count": 44,
   "id": "1cdc4936-8563-4288-a18d-b5be7dd56d02",
   "metadata": {},
   "outputs": [],
   "source": [
    "hist[\"stk_p\"] = hist[\"잔고금액\"] / hist[\"잔고수량\"]\n",
    "hist = hist.fillna(0)"
   ]
  },
  {
   "cell_type": "code",
   "execution_count": 45,
   "id": "113c901e-b596-45dc-a090-b6cdfd802612",
   "metadata": {},
   "outputs": [],
   "source": [
    "train_data = pd.merge(train_data, hist, how = \"left\", on = [\"계좌 ID\", \"종목코드\"])\n",
    "train_data = train_data[(train_data[\"매수일자\"] == train_data[\"기준일자\"])] # 매수일 = 기준일자\n",
    "train_data.reset_index(drop = True, inplace = True)\n",
    "\n",
    "test_data = pd.merge(test_data, hist, how = \"left\", on = [\"계좌 ID\", \"종목코드\"])\n",
    "test_data = test_data[(test_data[\"매수일자\"] == test_data[\"기준일자\"])]\n",
    "test_data.reset_index(drop = True, inplace = True)\n",
    "\n",
    "train_data = train_data.drop([\"계좌 ID\", \"종목코드\", \"매수일자\", \"기준일자\"], axis = 1) # 계좌번호, 종목코드, 매수일, 기준일자\n",
    "test_data = test_data.drop([\"계좌 ID\", \"종목코드\", \"매수일자\", \"제출ID\",\"보유기간(일)\", \"기준일자\"], axis = 1)"
   ]
  },
  {
   "cell_type": "code",
   "execution_count": 46,
   "id": "787fa10b-38ed-48b9-8fce-fd2e79100552",
   "metadata": {},
   "outputs": [],
   "source": [
    "from sklearn.preprocessing import LabelEncoder\n",
    "L_encoder = LabelEncoder()\n",
    "L_encoder.fit(iem[\"종목한글명\"]) # 종목 한글명\n",
    "train_data[\"종목한글명\"] = L_encoder.transform(train_data[\"종목한글명\"])\n",
    "test_data[\"종목한글명\"] = L_encoder.transform(test_data[\"종목한글명\"])"
   ]
  },
  {
   "cell_type": "code",
   "execution_count": 47,
   "id": "46cf76c1-78a3-40e1-86d1-7514b17a0210",
   "metadata": {},
   "outputs": [],
   "source": [
    "train_data.reset_index(drop = True, inplace=True)\n",
    "train_label.reset_index(drop = True, inplace=True)"
   ]
  },
  {
   "cell_type": "code",
   "execution_count": 48,
   "id": "5f49a2b1-2da1-4d65-9094-7b45c5714923",
   "metadata": {},
   "outputs": [],
   "source": [
    "from sklearn.metrics import mean_squared_error as mse\n",
    "from sklearn.model_selection import train_test_split, StratifiedKFold, KFold\n",
    "from lightgbm import LGBMRegressor"
   ]
  },
  {
   "cell_type": "code",
   "execution_count": 49,
   "id": "fb970752-2f39-4712-a8b2-c26fc6a8966d",
   "metadata": {},
   "outputs": [
    {
     "name": "stdout",
     "output_type": "stream",
     "text": [
      "Training until validation scores don't improve for 300 rounds\n",
      "[500]\tvalid_0's rmse: 3.2675\tvalid_0's l2: 10.6765\n",
      "[1000]\tvalid_0's rmse: 2.90124\tvalid_0's l2: 8.41718\n",
      "[1500]\tvalid_0's rmse: 2.7368\tvalid_0's l2: 7.49006\n",
      "[2000]\tvalid_0's rmse: 2.65075\tvalid_0's l2: 7.02649\n",
      "Did not meet early stopping. Best iteration is:\n",
      "[1999]\tvalid_0's rmse: 2.65073\tvalid_0's l2: 7.02635\n",
      "Training until validation scores don't improve for 300 rounds\n",
      "[500]\tvalid_0's rmse: 0.787695\tvalid_0's l2: 0.620463\n",
      "[1000]\tvalid_0's rmse: 0.646286\tvalid_0's l2: 0.417685\n",
      "Early stopping, best iteration is:\n",
      "[1103]\tvalid_0's rmse: 0.63585\tvalid_0's l2: 0.404306\n",
      "Training until validation scores don't improve for 300 rounds\n",
      "[500]\tvalid_0's rmse: 1.3673\tvalid_0's l2: 1.86951\n",
      "Early stopping, best iteration is:\n",
      "[503]\tvalid_0's rmse: 1.36638\tvalid_0's l2: 1.86699\n",
      "Training until validation scores don't improve for 300 rounds\n",
      "[500]\tvalid_0's rmse: 0.317914\tvalid_0's l2: 0.101069\n",
      "[1000]\tvalid_0's rmse: 0.231972\tvalid_0's l2: 0.0538108\n",
      "Early stopping, best iteration is:\n",
      "[837]\tvalid_0's rmse: 0.223803\tvalid_0's l2: 0.0500876\n",
      "Training until validation scores don't improve for 300 rounds\n",
      "[500]\tvalid_0's rmse: 0.23573\tvalid_0's l2: 0.0555688\n",
      "[1000]\tvalid_0's rmse: 0.103679\tvalid_0's l2: 0.0107494\n",
      "[1500]\tvalid_0's rmse: 0.102641\tvalid_0's l2: 0.0105351\n",
      "Early stopping, best iteration is:\n",
      "[1564]\tvalid_0's rmse: 0.10262\tvalid_0's l2: 0.0105308\n",
      "Training until validation scores don't improve for 300 rounds\n",
      "[500]\tvalid_0's rmse: 0.313649\tvalid_0's l2: 0.0983759\n",
      "[1000]\tvalid_0's rmse: 0.180275\tvalid_0's l2: 0.032499\n",
      "Early stopping, best iteration is:\n",
      "[1136]\tvalid_0's rmse: 0.172294\tvalid_0's l2: 0.0296854\n",
      "Training until validation scores don't improve for 300 rounds\n",
      "[500]\tvalid_0's rmse: 0.249141\tvalid_0's l2: 0.0620713\n",
      "[1000]\tvalid_0's rmse: 0.107055\tvalid_0's l2: 0.0114608\n",
      "Early stopping, best iteration is:\n",
      "[846]\tvalid_0's rmse: 0.106847\tvalid_0's l2: 0.0114162\n",
      "Training until validation scores don't improve for 300 rounds\n",
      "[500]\tvalid_0's rmse: 0.426872\tvalid_0's l2: 0.18222\n",
      "Early stopping, best iteration is:\n",
      "[671]\tvalid_0's rmse: 0.270481\tvalid_0's l2: 0.0731598\n",
      "Training until validation scores don't improve for 300 rounds\n",
      "[500]\tvalid_0's rmse: 1.30235\tvalid_0's l2: 1.69613\n",
      "[1000]\tvalid_0's rmse: 1.29711\tvalid_0's l2: 1.68248\n",
      "Early stopping, best iteration is:\n",
      "[707]\tvalid_0's rmse: 1.24437\tvalid_0's l2: 1.54846\n",
      "Training until validation scores don't improve for 300 rounds\n",
      "[500]\tvalid_0's rmse: 1.23121\tvalid_0's l2: 1.51588\n",
      "[1000]\tvalid_0's rmse: 1.11813\tvalid_0's l2: 1.25022\n",
      "Early stopping, best iteration is:\n",
      "[815]\tvalid_0's rmse: 1.09008\tvalid_0's l2: 1.18827\n"
     ]
    }
   ],
   "source": [
    "models = []\n",
    "\n",
    "folds = KFold(n_splits=10)\n",
    "for train_idx, val_idx in folds.split(train_data):\n",
    "    \n",
    "    train_x = train_data.iloc[train_idx, :]\n",
    "    train_y = train_label[train_idx]\n",
    "    val_x = train_data.iloc[val_idx, :]\n",
    "    val_y = train_label[val_idx]\n",
    "    \n",
    "    model = LGBMRegressor(objective= \"regression\",\n",
    "                          max_depth= 5,\n",
    "                          n_estimators= 2000,\n",
    "                          learning_rate= 0.01,\n",
    "                          num_leaves = 31)\n",
    "    \n",
    "    model.fit(train_x, train_y,\n",
    "              eval_set=[(val_x, val_y)],\n",
    "              eval_metric=[\"rmse\"],\n",
    "              early_stopping_rounds=300,\n",
    "              verbose=500)\n",
    "    \n",
    "    models.append(model)"
   ]
  },
  {
   "cell_type": "code",
   "execution_count": 50,
   "id": "52166fc3-7cff-4c41-99d8-7ddcb94c601b",
   "metadata": {},
   "outputs": [],
   "source": [
    "result = []\n",
    "for i in models:\n",
    "    result.append(i.predict(test_data))\n",
    "    \n",
    "predict = np.mean(result, axis = 0)"
   ]
  },
  {
   "cell_type": "code",
   "execution_count": 51,
   "id": "78a54d59-9a15-4156-bbf0-52ad5c150717",
   "metadata": {},
   "outputs": [
    {
     "data": {
      "text/plain": [
       "array([13.00094445, 13.00094595, 13.00056156, ..., 26.98711057,\n",
       "       26.98711057, 26.9873482 ])"
      ]
     },
     "execution_count": 51,
     "metadata": {},
     "output_type": "execute_result"
    }
   ],
   "source": [
    "predict"
   ]
  },
  {
   "cell_type": "code",
   "execution_count": 85,
   "id": "bdef6a11-4306-4f94-8238-9e08bc073e21",
   "metadata": {},
   "outputs": [],
   "source": [
    "submission = pd.read_csv(\"sample_submission.csv\", encoding='cp949')"
   ]
  },
  {
   "cell_type": "code",
   "execution_count": 86,
   "id": "e0f46e1f-0cf3-46c4-b410-de243bed7cbf",
   "metadata": {},
   "outputs": [],
   "source": [
    "submission[\"hold_d\"] = np.round(predict)"
   ]
  },
  {
   "cell_type": "code",
   "execution_count": 87,
   "id": "f52a5d07-e377-40f2-b949-8524cfbb8374",
   "metadata": {},
   "outputs": [],
   "source": [
    "submission.to_csv('sub4_경제_lgbm_가중치0.6으로 동일.csv', header=True, index=False, encoding='cp949')"
   ]
  },
  {
   "cell_type": "markdown",
   "id": "6796f6a2-3e79-425e-a4a6-ebf879fa02d4",
   "metadata": {},
   "source": [
    "# 외부경제 데이터 정규화"
   ]
  },
  {
   "cell_type": "code",
   "execution_count": 6,
   "id": "da266005-254c-455c-aae2-11ce5f5b3ba2",
   "metadata": {},
   "outputs": [],
   "source": [
    "train_eco_scaled = pd.read_csv('train_eco_scaled.csv', encoding='cp949')"
   ]
  },
  {
   "cell_type": "code",
   "execution_count": 7,
   "id": "da9c583f-1931-4627-98fe-e544c0c5872b",
   "metadata": {},
   "outputs": [],
   "source": [
    "train_eco_scaled['year']= train_eco_scaled['매수일자'].apply(lambda x: x[0:4])"
   ]
  },
  {
   "cell_type": "code",
   "execution_count": 8,
   "id": "a976bd8d-ed17-406d-95a2-be06ef4fa250",
   "metadata": {},
   "outputs": [
    {
     "data": {
      "text/html": [
       "<div>\n",
       "<style scoped>\n",
       "    .dataframe tbody tr th:only-of-type {\n",
       "        vertical-align: middle;\n",
       "    }\n",
       "\n",
       "    .dataframe tbody tr th {\n",
       "        vertical-align: top;\n",
       "    }\n",
       "\n",
       "    .dataframe thead th {\n",
       "        text-align: right;\n",
       "    }\n",
       "</style>\n",
       "<table border=\"1\" class=\"dataframe\">\n",
       "  <thead>\n",
       "    <tr style=\"text-align: right;\">\n",
       "      <th></th>\n",
       "      <th>계좌 ID</th>\n",
       "      <th>종목코드</th>\n",
       "      <th>매수일자</th>\n",
       "      <th>보유기간(일)</th>\n",
       "      <th>국제유가</th>\n",
       "      <th>광물가격</th>\n",
       "      <th>기준금리</th>\n",
       "      <th>환율</th>\n",
       "      <th>year</th>\n",
       "    </tr>\n",
       "  </thead>\n",
       "  <tbody>\n",
       "    <tr>\n",
       "      <th>0</th>\n",
       "      <td>0ad104dbed99be0cd858aa772765ddedade554601a981b...</td>\n",
       "      <td>A006360</td>\n",
       "      <td>2018-07-26</td>\n",
       "      <td>11</td>\n",
       "      <td>0.931539</td>\n",
       "      <td>0.532362</td>\n",
       "      <td>0.8</td>\n",
       "      <td>0.357053</td>\n",
       "      <td>2018</td>\n",
       "    </tr>\n",
       "    <tr>\n",
       "      <th>1</th>\n",
       "      <td>f431b2a7651bccfc7ce8f294fdacdf0b7b31db734be701...</td>\n",
       "      <td>A023590</td>\n",
       "      <td>2018-07-26</td>\n",
       "      <td>5</td>\n",
       "      <td>0.931539</td>\n",
       "      <td>0.532362</td>\n",
       "      <td>0.8</td>\n",
       "      <td>0.357053</td>\n",
       "      <td>2018</td>\n",
       "    </tr>\n",
       "    <tr>\n",
       "      <th>2</th>\n",
       "      <td>43a0eb89f16d3a46767794dda9c31cd15e1ff9daf33332...</td>\n",
       "      <td>A010820</td>\n",
       "      <td>2018-07-26</td>\n",
       "      <td>3</td>\n",
       "      <td>0.931539</td>\n",
       "      <td>0.532362</td>\n",
       "      <td>0.8</td>\n",
       "      <td>0.357053</td>\n",
       "      <td>2018</td>\n",
       "    </tr>\n",
       "    <tr>\n",
       "      <th>3</th>\n",
       "      <td>5b6973bff9ab839507cf2f839b8b6d190d8ac2144fa5a4...</td>\n",
       "      <td>A005930</td>\n",
       "      <td>2018-07-26</td>\n",
       "      <td>122</td>\n",
       "      <td>0.931539</td>\n",
       "      <td>0.532362</td>\n",
       "      <td>0.8</td>\n",
       "      <td>0.357053</td>\n",
       "      <td>2018</td>\n",
       "    </tr>\n",
       "    <tr>\n",
       "      <th>4</th>\n",
       "      <td>1c52768eebea2eab6a7ed8cc95d838a3732fc6dce51ba3...</td>\n",
       "      <td>A006360</td>\n",
       "      <td>2018-07-26</td>\n",
       "      <td>2</td>\n",
       "      <td>0.931539</td>\n",
       "      <td>0.532362</td>\n",
       "      <td>0.8</td>\n",
       "      <td>0.357053</td>\n",
       "      <td>2018</td>\n",
       "    </tr>\n",
       "    <tr>\n",
       "      <th>...</th>\n",
       "      <td>...</td>\n",
       "      <td>...</td>\n",
       "      <td>...</td>\n",
       "      <td>...</td>\n",
       "      <td>...</td>\n",
       "      <td>...</td>\n",
       "      <td>...</td>\n",
       "      <td>...</td>\n",
       "      <td>...</td>\n",
       "    </tr>\n",
       "    <tr>\n",
       "      <th>681467</th>\n",
       "      <td>bcbf85d4382788cc37e75b11ab141e3bf7cde87ff7253d...</td>\n",
       "      <td>A267250</td>\n",
       "      <td>2019-03-27</td>\n",
       "      <td>89</td>\n",
       "      <td>0.839770</td>\n",
       "      <td>0.552473</td>\n",
       "      <td>1.0</td>\n",
       "      <td>0.355557</td>\n",
       "      <td>2019</td>\n",
       "    </tr>\n",
       "    <tr>\n",
       "      <th>681468</th>\n",
       "      <td>6d78a1da2ff49b7be5a15a22134c743e0ed478f58bb6f5...</td>\n",
       "      <td>A253450</td>\n",
       "      <td>2019-03-27</td>\n",
       "      <td>7</td>\n",
       "      <td>0.839770</td>\n",
       "      <td>0.552473</td>\n",
       "      <td>1.0</td>\n",
       "      <td>0.355557</td>\n",
       "      <td>2019</td>\n",
       "    </tr>\n",
       "    <tr>\n",
       "      <th>681469</th>\n",
       "      <td>ed62927d381883a19affcc2097336e801e2212ba0cc56d...</td>\n",
       "      <td>A091990</td>\n",
       "      <td>2019-03-27</td>\n",
       "      <td>4</td>\n",
       "      <td>0.839770</td>\n",
       "      <td>0.552473</td>\n",
       "      <td>1.0</td>\n",
       "      <td>0.355557</td>\n",
       "      <td>2019</td>\n",
       "    </tr>\n",
       "    <tr>\n",
       "      <th>681470</th>\n",
       "      <td>5eafe957081039a4c9e71186cdd1c74dfd674f00be01cc...</td>\n",
       "      <td>A034940</td>\n",
       "      <td>2019-03-27</td>\n",
       "      <td>1</td>\n",
       "      <td>0.839770</td>\n",
       "      <td>0.552473</td>\n",
       "      <td>1.0</td>\n",
       "      <td>0.355557</td>\n",
       "      <td>2019</td>\n",
       "    </tr>\n",
       "    <tr>\n",
       "      <th>681471</th>\n",
       "      <td>5eafe957081039a4c9e71186cdd1c74dfd674f00be01cc...</td>\n",
       "      <td>A121890</td>\n",
       "      <td>2019-03-27</td>\n",
       "      <td>2</td>\n",
       "      <td>0.839770</td>\n",
       "      <td>0.552473</td>\n",
       "      <td>1.0</td>\n",
       "      <td>0.355557</td>\n",
       "      <td>2019</td>\n",
       "    </tr>\n",
       "  </tbody>\n",
       "</table>\n",
       "<p>681472 rows × 9 columns</p>\n",
       "</div>"
      ],
      "text/plain": [
       "                                                    계좌 ID     종목코드  \\\n",
       "0       0ad104dbed99be0cd858aa772765ddedade554601a981b...  A006360   \n",
       "1       f431b2a7651bccfc7ce8f294fdacdf0b7b31db734be701...  A023590   \n",
       "2       43a0eb89f16d3a46767794dda9c31cd15e1ff9daf33332...  A010820   \n",
       "3       5b6973bff9ab839507cf2f839b8b6d190d8ac2144fa5a4...  A005930   \n",
       "4       1c52768eebea2eab6a7ed8cc95d838a3732fc6dce51ba3...  A006360   \n",
       "...                                                   ...      ...   \n",
       "681467  bcbf85d4382788cc37e75b11ab141e3bf7cde87ff7253d...  A267250   \n",
       "681468  6d78a1da2ff49b7be5a15a22134c743e0ed478f58bb6f5...  A253450   \n",
       "681469  ed62927d381883a19affcc2097336e801e2212ba0cc56d...  A091990   \n",
       "681470  5eafe957081039a4c9e71186cdd1c74dfd674f00be01cc...  A034940   \n",
       "681471  5eafe957081039a4c9e71186cdd1c74dfd674f00be01cc...  A121890   \n",
       "\n",
       "              매수일자  보유기간(일)      국제유가      광물가격  기준금리        환율  year  \n",
       "0       2018-07-26       11  0.931539  0.532362   0.8  0.357053  2018  \n",
       "1       2018-07-26        5  0.931539  0.532362   0.8  0.357053  2018  \n",
       "2       2018-07-26        3  0.931539  0.532362   0.8  0.357053  2018  \n",
       "3       2018-07-26      122  0.931539  0.532362   0.8  0.357053  2018  \n",
       "4       2018-07-26        2  0.931539  0.532362   0.8  0.357053  2018  \n",
       "...            ...      ...       ...       ...   ...       ...   ...  \n",
       "681467  2019-03-27       89  0.839770  0.552473   1.0  0.355557  2019  \n",
       "681468  2019-03-27        7  0.839770  0.552473   1.0  0.355557  2019  \n",
       "681469  2019-03-27        4  0.839770  0.552473   1.0  0.355557  2019  \n",
       "681470  2019-03-27        1  0.839770  0.552473   1.0  0.355557  2019  \n",
       "681471  2019-03-27        2  0.839770  0.552473   1.0  0.355557  2019  \n",
       "\n",
       "[681472 rows x 9 columns]"
      ]
     },
     "execution_count": 8,
     "metadata": {},
     "output_type": "execute_result"
    }
   ],
   "source": [
    "train_eco_scaled"
   ]
  },
  {
   "cell_type": "code",
   "execution_count": 9,
   "id": "80596162-6b51-404b-983c-1bf109befe95",
   "metadata": {},
   "outputs": [],
   "source": [
    "train_eco_scaled['과거 보유일'] = np.nan\n",
    "\n",
    "train_eco_scaled2016 = train_eco[train_eco_scaled['year']=='2016'].copy()\n",
    "train_eco_scaled2016['과거 보유일'] = train_eco_scaled2016['보유기간(일)']*0.6\n",
    "\n",
    "train_eco_scaled2017 = train_eco_scaled[train_eco_scaled['year']=='2017'].copy()\n",
    "train_eco_scaled2017['과거 보유일'] = train_eco_scaled2017['보유기간(일)']*0.6\n",
    "\n",
    "train_eco_scaled2018 = train_eco_scaled[train_eco_scaled['year']=='2018'].copy()\n",
    "train_eco_scaled2018['과거 보유일'] = train_eco_scaled2018['보유기간(일)']*0.6\n",
    "\n",
    "train_eco_scaled2019 = train_eco_scaled[train_eco_scaled['year']=='2019'].copy()\n",
    "train_eco_scaled2019['과거 보유일'] = train_eco_scaled2019['보유기간(일)']*0.6\n",
    "\n",
    "train_eco_scaled2020 = train_eco_scaled[train_eco_scaled['year']=='2020'].copy()\n",
    "train_eco_scaled2020['과거 보유일'] = train_eco_scaled2020['보유기간(일)']*0.6"
   ]
  },
  {
   "cell_type": "code",
   "execution_count": 10,
   "id": "8f8aa71f-f8ab-464a-9377-79ee241b9472",
   "metadata": {},
   "outputs": [],
   "source": [
    "train_year =pd.concat([train_eco_scaled2016,train_eco_scaled2017,train_eco_scaled2018,train_eco_scaled2019,train_eco_scaled2020], ignore_index=True)"
   ]
  },
  {
   "cell_type": "code",
   "execution_count": 11,
   "id": "f42c681a-0dab-4df8-b374-52b311601a43",
   "metadata": {},
   "outputs": [],
   "source": [
    "train_year['과거 보유일'] = round(train_year['과거 보유일'],2)\n",
    "train_year = train_year.drop('year', axis=1, inplace=False)"
   ]
  },
  {
   "cell_type": "code",
   "execution_count": 12,
   "id": "726cfdbb-e267-4972-80fd-ba877d1eae5d",
   "metadata": {},
   "outputs": [],
   "source": [
    "train_data= pd.merge(train_year,iem, how='left', on='종목코드')\n",
    "train_data = pd.merge(train_data, cus,how='left', on='계좌 ID')\n",
    "\n",
    "test_data= pd.merge(test, iem, on='종목코드')\n",
    "test_data = pd.merge(test_data , cus, on='계좌 ID')"
   ]
  },
  {
   "cell_type": "code",
   "execution_count": 13,
   "id": "a15e5fbf-4f6e-4af8-9713-e5a561ce00c2",
   "metadata": {},
   "outputs": [],
   "source": [
    "# train_data에서 Y값을 추출한 후 hold_d column을 지워주겠습니다.\n",
    "\n",
    "train_label = train_data[\"보유기간(일)\"]\n",
    "train_data.drop([\"보유기간(일)\"], axis = 1, inplace = True)"
   ]
  },
  {
   "cell_type": "code",
   "execution_count": 14,
   "id": "e2afd647-c658-42de-aba6-66e305db946f",
   "metadata": {},
   "outputs": [
    {
     "data": {
      "text/html": [
       "<div>\n",
       "<style scoped>\n",
       "    .dataframe tbody tr th:only-of-type {\n",
       "        vertical-align: middle;\n",
       "    }\n",
       "\n",
       "    .dataframe tbody tr th {\n",
       "        vertical-align: top;\n",
       "    }\n",
       "\n",
       "    .dataframe thead th {\n",
       "        text-align: right;\n",
       "    }\n",
       "</style>\n",
       "<table border=\"1\" class=\"dataframe\">\n",
       "  <thead>\n",
       "    <tr style=\"text-align: right;\">\n",
       "      <th></th>\n",
       "      <th>계좌 ID</th>\n",
       "      <th>기준일자</th>\n",
       "      <th>종목코드</th>\n",
       "      <th>잔고수량</th>\n",
       "      <th>잔고금액</th>\n",
       "      <th>주당 액면가</th>\n",
       "    </tr>\n",
       "  </thead>\n",
       "  <tbody>\n",
       "    <tr>\n",
       "      <th>0</th>\n",
       "      <td>1119c23c3a504ca7b75060277410c0f6fb9018ec7638c2...</td>\n",
       "      <td>2020-08-20</td>\n",
       "      <td>A008770</td>\n",
       "      <td>40.0</td>\n",
       "      <td>2828000.0</td>\n",
       "      <td>5000.0</td>\n",
       "    </tr>\n",
       "    <tr>\n",
       "      <th>1</th>\n",
       "      <td>1119c23c3a504ca7b75060277410c0f6fb9018ec7638c2...</td>\n",
       "      <td>2020-06-23</td>\n",
       "      <td>A008770</td>\n",
       "      <td>20.0</td>\n",
       "      <td>1390000.0</td>\n",
       "      <td>5000.0</td>\n",
       "    </tr>\n",
       "    <tr>\n",
       "      <th>2</th>\n",
       "      <td>1119c23c3a504ca7b75060277410c0f6fb9018ec7638c2...</td>\n",
       "      <td>2016-01-04</td>\n",
       "      <td>A005940</td>\n",
       "      <td>311.0</td>\n",
       "      <td>2982490.0</td>\n",
       "      <td>5000.0</td>\n",
       "    </tr>\n",
       "    <tr>\n",
       "      <th>3</th>\n",
       "      <td>1119c23c3a504ca7b75060277410c0f6fb9018ec7638c2...</td>\n",
       "      <td>2020-08-14</td>\n",
       "      <td>A005930</td>\n",
       "      <td>40.0</td>\n",
       "      <td>2320000.0</td>\n",
       "      <td>100.0</td>\n",
       "    </tr>\n",
       "    <tr>\n",
       "      <th>4</th>\n",
       "      <td>1119c23c3a504ca7b75060277410c0f6fb9018ec7638c2...</td>\n",
       "      <td>2020-06-23</td>\n",
       "      <td>A005930</td>\n",
       "      <td>20.0</td>\n",
       "      <td>1028000.0</td>\n",
       "      <td>100.0</td>\n",
       "    </tr>\n",
       "    <tr>\n",
       "      <th>...</th>\n",
       "      <td>...</td>\n",
       "      <td>...</td>\n",
       "      <td>...</td>\n",
       "      <td>...</td>\n",
       "      <td>...</td>\n",
       "      <td>...</td>\n",
       "    </tr>\n",
       "    <tr>\n",
       "      <th>2573834</th>\n",
       "      <td>720aa28d24bfa8fbeddf4fe625cb53af0a6f7ff2d526de...</td>\n",
       "      <td>2020-08-06</td>\n",
       "      <td>A035720</td>\n",
       "      <td>1.0</td>\n",
       "      <td>364000.0</td>\n",
       "      <td>500.0</td>\n",
       "    </tr>\n",
       "    <tr>\n",
       "      <th>2573835</th>\n",
       "      <td>720aa28d24bfa8fbeddf4fe625cb53af0a6f7ff2d526de...</td>\n",
       "      <td>2020-08-13</td>\n",
       "      <td>A035720</td>\n",
       "      <td>0.0</td>\n",
       "      <td>0.0</td>\n",
       "      <td>500.0</td>\n",
       "    </tr>\n",
       "    <tr>\n",
       "      <th>2573836</th>\n",
       "      <td>720aa28d24bfa8fbeddf4fe625cb53af0a6f7ff2d526de...</td>\n",
       "      <td>2020-08-19</td>\n",
       "      <td>A035720</td>\n",
       "      <td>1.0</td>\n",
       "      <td>376500.0</td>\n",
       "      <td>500.0</td>\n",
       "    </tr>\n",
       "    <tr>\n",
       "      <th>2573837</th>\n",
       "      <td>720aa28d24bfa8fbeddf4fe625cb53af0a6f7ff2d526de...</td>\n",
       "      <td>2020-08-25</td>\n",
       "      <td>A035720</td>\n",
       "      <td>0.0</td>\n",
       "      <td>0.0</td>\n",
       "      <td>500.0</td>\n",
       "    </tr>\n",
       "    <tr>\n",
       "      <th>2573838</th>\n",
       "      <td>720aa28d24bfa8fbeddf4fe625cb53af0a6f7ff2d526de...</td>\n",
       "      <td>2020-09-01</td>\n",
       "      <td>A035720</td>\n",
       "      <td>1.0</td>\n",
       "      <td>401500.0</td>\n",
       "      <td>500.0</td>\n",
       "    </tr>\n",
       "  </tbody>\n",
       "</table>\n",
       "<p>2573839 rows × 6 columns</p>\n",
       "</div>"
      ],
      "text/plain": [
       "                                                     계좌 ID        기준일자  \\\n",
       "0        1119c23c3a504ca7b75060277410c0f6fb9018ec7638c2...  2020-08-20   \n",
       "1        1119c23c3a504ca7b75060277410c0f6fb9018ec7638c2...  2020-06-23   \n",
       "2        1119c23c3a504ca7b75060277410c0f6fb9018ec7638c2...  2016-01-04   \n",
       "3        1119c23c3a504ca7b75060277410c0f6fb9018ec7638c2...  2020-08-14   \n",
       "4        1119c23c3a504ca7b75060277410c0f6fb9018ec7638c2...  2020-06-23   \n",
       "...                                                    ...         ...   \n",
       "2573834  720aa28d24bfa8fbeddf4fe625cb53af0a6f7ff2d526de...  2020-08-06   \n",
       "2573835  720aa28d24bfa8fbeddf4fe625cb53af0a6f7ff2d526de...  2020-08-13   \n",
       "2573836  720aa28d24bfa8fbeddf4fe625cb53af0a6f7ff2d526de...  2020-08-19   \n",
       "2573837  720aa28d24bfa8fbeddf4fe625cb53af0a6f7ff2d526de...  2020-08-25   \n",
       "2573838  720aa28d24bfa8fbeddf4fe625cb53af0a6f7ff2d526de...  2020-09-01   \n",
       "\n",
       "            종목코드   잔고수량       잔고금액  주당 액면가  \n",
       "0        A008770   40.0  2828000.0  5000.0  \n",
       "1        A008770   20.0  1390000.0  5000.0  \n",
       "2        A005940  311.0  2982490.0  5000.0  \n",
       "3        A005930   40.0  2320000.0   100.0  \n",
       "4        A005930   20.0  1028000.0   100.0  \n",
       "...          ...    ...        ...     ...  \n",
       "2573834  A035720    1.0   364000.0   500.0  \n",
       "2573835  A035720    0.0        0.0   500.0  \n",
       "2573836  A035720    1.0   376500.0   500.0  \n",
       "2573837  A035720    0.0        0.0   500.0  \n",
       "2573838  A035720    1.0   401500.0   500.0  \n",
       "\n",
       "[2573839 rows x 6 columns]"
      ]
     },
     "execution_count": 14,
     "metadata": {},
     "output_type": "execute_result"
    }
   ],
   "source": [
    "hist"
   ]
  },
  {
   "cell_type": "code",
   "execution_count": 15,
   "id": "a19b1f3e-c66e-4643-b4b2-3d86a800043e",
   "metadata": {},
   "outputs": [],
   "source": [
    "hist[\"stk_p\"] = hist[\"잔고금액\"] / hist[\"잔고수량\"]\n",
    "hist = hist.fillna(0)"
   ]
  },
  {
   "cell_type": "code",
   "execution_count": 16,
   "id": "a8b5a7ba-5fc7-4ce2-afae-d65375f587a0",
   "metadata": {},
   "outputs": [],
   "source": [
    "train_data = pd.merge(train_data, hist, how = \"left\", on = [\"계좌 ID\", \"종목코드\"])\n",
    "train_data = train_data[(train_data[\"매수일자\"] == train_data[\"기준일자\"])] # 매수일 = 기준일자\n",
    "train_data.reset_index(drop = True, inplace = True)\n",
    "\n",
    "test_data = pd.merge(test_data, hist, how = \"left\", on = [\"계좌 ID\", \"종목코드\"])\n",
    "test_data = test_data[(test_data[\"매수일자\"] == test_data[\"기준일자\"])]\n",
    "test_data.reset_index(drop = True, inplace = True)\n",
    "\n",
    "train_data = train_data.drop([\"계좌 ID\", \"종목코드\", \"매수일자\", \"기준일자\"], axis = 1) # 계좌번호, 종목코드, 매수일, 기준일자\n",
    "test_data = test_data.drop([\"계좌 ID\", \"종목코드\", \"매수일자\", \"제출ID\",\"보유기간(일)\", \"기준일자\"], axis = 1)"
   ]
  },
  {
   "cell_type": "code",
   "execution_count": 17,
   "id": "01005312-9657-46d9-ad38-fb5ead3a4d64",
   "metadata": {},
   "outputs": [],
   "source": [
    "from sklearn.preprocessing import LabelEncoder\n",
    "L_encoder = LabelEncoder()\n",
    "L_encoder.fit(iem[\"종목한글명\"]) # 종목 한글명\n",
    "train_data[\"종목한글명\"] = L_encoder.transform(train_data[\"종목한글명\"])\n",
    "test_data[\"종목한글명\"] = L_encoder.transform(test_data[\"종목한글명\"])"
   ]
  },
  {
   "cell_type": "code",
   "execution_count": 18,
   "id": "8c94e2f2-8475-4d5c-bdac-825940e61078",
   "metadata": {},
   "outputs": [],
   "source": [
    "train_data.reset_index(drop = True, inplace=True)\n",
    "train_label.reset_index(drop = True, inplace=True)"
   ]
  },
  {
   "cell_type": "code",
   "execution_count": 19,
   "id": "c8ccdac9-62e0-48ea-bf51-d13bc584f0bf",
   "metadata": {},
   "outputs": [],
   "source": [
    "from sklearn.metrics import mean_squared_error as mse\n",
    "from sklearn.model_selection import train_test_split, StratifiedKFold, KFold\n",
    "from lightgbm import LGBMRegressor"
   ]
  },
  {
   "cell_type": "code",
   "execution_count": 20,
   "id": "63dd38ef-9495-4623-b6de-526e651e867b",
   "metadata": {},
   "outputs": [
    {
     "name": "stdout",
     "output_type": "stream",
     "text": [
      "Training until validation scores don't improve for 300 rounds\n",
      "[500]\tvalid_0's rmse: 7.61818\tvalid_0's l2: 58.0367\n",
      "[1000]\tvalid_0's rmse: 7.60853\tvalid_0's l2: 57.8898\n",
      "Early stopping, best iteration is:\n",
      "[738]\tvalid_0's rmse: 7.55514\tvalid_0's l2: 57.0801\n",
      "Training until validation scores don't improve for 300 rounds\n",
      "[500]\tvalid_0's rmse: 0.792905\tvalid_0's l2: 0.628699\n",
      "[1000]\tvalid_0's rmse: 0.584282\tvalid_0's l2: 0.341385\n",
      "Early stopping, best iteration is:\n",
      "[969]\tvalid_0's rmse: 0.584013\tvalid_0's l2: 0.341072\n",
      "Training until validation scores don't improve for 300 rounds\n",
      "[500]\tvalid_0's rmse: 0.392125\tvalid_0's l2: 0.153762\n",
      "[1000]\tvalid_0's rmse: 0.189713\tvalid_0's l2: 0.0359912\n",
      "Early stopping, best iteration is:\n",
      "[1036]\tvalid_0's rmse: 0.189651\tvalid_0's l2: 0.0359674\n",
      "Training until validation scores don't improve for 300 rounds\n",
      "[500]\tvalid_0's rmse: 0.426481\tvalid_0's l2: 0.181886\n",
      "[1000]\tvalid_0's rmse: 0.222211\tvalid_0's l2: 0.0493777\n",
      "[1500]\tvalid_0's rmse: 0.221926\tvalid_0's l2: 0.049251\n",
      "[2000]\tvalid_0's rmse: 0.22211\tvalid_0's l2: 0.0493327\n",
      "Did not meet early stopping. Best iteration is:\n",
      "[1745]\tvalid_0's rmse: 0.221918\tvalid_0's l2: 0.0492477\n",
      "Training until validation scores don't improve for 300 rounds\n",
      "[500]\tvalid_0's rmse: 0.165299\tvalid_0's l2: 0.0273237\n",
      "[1000]\tvalid_0's rmse: 0.040471\tvalid_0's l2: 0.0016379\n",
      "[1500]\tvalid_0's rmse: 0.0404415\tvalid_0's l2: 0.00163551\n",
      "[2000]\tvalid_0's rmse: 0.0404452\tvalid_0's l2: 0.00163581\n",
      "Did not meet early stopping. Best iteration is:\n",
      "[1838]\tvalid_0's rmse: 0.0404354\tvalid_0's l2: 0.00163502\n",
      "Training until validation scores don't improve for 300 rounds\n",
      "[500]\tvalid_0's rmse: 0.157255\tvalid_0's l2: 0.0247291\n",
      "[1000]\tvalid_0's rmse: 0.0328589\tvalid_0's l2: 0.00107971\n",
      "Early stopping, best iteration is:\n",
      "[996]\tvalid_0's rmse: 0.0328567\tvalid_0's l2: 0.00107956\n",
      "Training until validation scores don't improve for 300 rounds\n",
      "[500]\tvalid_0's rmse: 0.159363\tvalid_0's l2: 0.0253967\n",
      "[1000]\tvalid_0's rmse: 0.0349613\tvalid_0's l2: 0.00122229\n",
      "[1500]\tvalid_0's rmse: 0.034932\tvalid_0's l2: 0.00122024\n",
      "Early stopping, best iteration is:\n",
      "[1338]\tvalid_0's rmse: 0.0349081\tvalid_0's l2: 0.00121857\n",
      "Training until validation scores don't improve for 300 rounds\n",
      "[500]\tvalid_0's rmse: 0.155289\tvalid_0's l2: 0.0241148\n",
      "[1000]\tvalid_0's rmse: 0.0347571\tvalid_0's l2: 0.00120806\n",
      "Early stopping, best iteration is:\n",
      "[995]\tvalid_0's rmse: 0.0347564\tvalid_0's l2: 0.00120801\n",
      "Training until validation scores don't improve for 300 rounds\n",
      "[500]\tvalid_0's rmse: 0.166648\tvalid_0's l2: 0.0277715\n",
      "[1000]\tvalid_0's rmse: 0.0427872\tvalid_0's l2: 0.00183075\n",
      "Early stopping, best iteration is:\n",
      "[913]\tvalid_0's rmse: 0.0427679\tvalid_0's l2: 0.00182909\n",
      "Training until validation scores don't improve for 300 rounds\n",
      "[500]\tvalid_0's rmse: 0.165218\tvalid_0's l2: 0.0272971\n",
      "[1000]\tvalid_0's rmse: 0.0373305\tvalid_0's l2: 0.00139357\n",
      "Early stopping, best iteration is:\n",
      "[999]\tvalid_0's rmse: 0.0373298\tvalid_0's l2: 0.00139351\n"
     ]
    }
   ],
   "source": [
    "models = []\n",
    "\n",
    "folds = KFold(n_splits=10)\n",
    "for train_idx, val_idx in folds.split(train_data):\n",
    "    \n",
    "    train_x = train_data.iloc[train_idx, :]\n",
    "    train_y = train_label[train_idx]\n",
    "    val_x = train_data.iloc[val_idx, :]\n",
    "    val_y = train_label[val_idx]\n",
    "    \n",
    "    model = LGBMRegressor(objective= \"regression\",\n",
    "                          max_depth= 5,\n",
    "                          n_estimators= 2000,\n",
    "                          learning_rate= 0.01,\n",
    "                          num_leaves = 31)\n",
    "    \n",
    "    model.fit(train_x, train_y,\n",
    "              eval_set=[(val_x, val_y)],\n",
    "              eval_metric=[\"rmse\"],\n",
    "              early_stopping_rounds=300,\n",
    "              verbose=500)\n",
    "    \n",
    "    models.append(model)"
   ]
  },
  {
   "cell_type": "code",
   "execution_count": 21,
   "id": "04b84418-a33f-44ea-8bc0-e8bd9b37900b",
   "metadata": {},
   "outputs": [],
   "source": [
    "result = []\n",
    "for i in models:\n",
    "    result.append(i.predict(test_data))\n",
    "    \n",
    "predict = np.mean(result, axis = 0)"
   ]
  },
  {
   "cell_type": "code",
   "execution_count": 22,
   "id": "c5a452c7-3919-4fa5-bb57-aa69b8b4f1d9",
   "metadata": {},
   "outputs": [
    {
     "data": {
      "text/plain": [
       "array([811.31607917, 757.30599724, 750.98071861, ..., 775.995573  ,\n",
       "       764.53630377, 762.43212863])"
      ]
     },
     "execution_count": 22,
     "metadata": {},
     "output_type": "execute_result"
    }
   ],
   "source": [
    "predict"
   ]
  },
  {
   "cell_type": "code",
   "execution_count": 23,
   "id": "6892cff5-f28e-4cd3-b674-f08ab3f71285",
   "metadata": {},
   "outputs": [],
   "source": [
    "submission = pd.read_csv(\"sample_submission.csv\", encoding='cp949')"
   ]
  },
  {
   "cell_type": "code",
   "execution_count": 24,
   "id": "1a6668de-ad83-4ce3-a774-e188f1144cba",
   "metadata": {},
   "outputs": [],
   "source": [
    "submission[\"hold_d\"] = np.round(predict)"
   ]
  },
  {
   "cell_type": "code",
   "execution_count": 26,
   "id": "f783d33f-1007-42f7-9217-c9d026b8f0a7",
   "metadata": {},
   "outputs": [],
   "source": [
    "submission.to_csv('sub6_경제scaled_lgbm_가중치0.6으로 동일_변수추가.csv', header=True, index=False, encoding='cp949')"
   ]
  },
  {
   "cell_type": "code",
   "execution_count": null,
   "id": "ef601233-4325-4b1a-9faf-b456f92368ff",
   "metadata": {},
   "outputs": [],
   "source": []
  }
 ],
 "metadata": {
  "kernelspec": {
   "display_name": "Python 3",
   "language": "python",
   "name": "python3"
  },
  "language_info": {
   "codemirror_mode": {
    "name": "ipython",
    "version": 3
   },
   "file_extension": ".py",
   "mimetype": "text/x-python",
   "name": "python",
   "nbconvert_exporter": "python",
   "pygments_lexer": "ipython3",
   "version": "3.6.10"
  },
  "toc-autonumbering": true
 },
 "nbformat": 4,
 "nbformat_minor": 5
}
