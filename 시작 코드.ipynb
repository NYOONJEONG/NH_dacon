{
 "cells": [
  {
   "cell_type": "code",
   "execution_count": 1,
   "id": "4688006c-81ef-4ad1-bfc8-05a6600f2096",
   "metadata": {},
   "outputs": [],
   "source": [
    "import numpy as np\n",
    "import pandas as pd\n",
    "from pandas import DataFrame\n",
    "from pandas import Series\n",
    "import seaborn as sns\n",
    "from tqdm import tqdm\n",
    "import matplotlib.font_manager as fm\n",
    "font_path = 'AppleGothic.ttf'\n",
    "fontprop = fm.FontProperties(fname=font_path, size=18)\n",
    "font_name = fm.FontProperties(fname=font_path).get_name()"
   ]
  },
  {
   "cell_type": "code",
   "execution_count": 5,
   "id": "735ea8ad-710f-49bc-9a22-407de919b8fe",
   "metadata": {},
   "outputs": [],
   "source": [
    "# 고객 및 주거래계좌 정보(CUS_INFO.CSV)\n",
    "cus = pd.read_csv('cus_info_new.csv', encoding='cp949')\n",
    "\n",
    "# 종목정보(IEM_INFO.CSV)\n",
    "iem= pd.read_csv('iem_info_20210902.csv')\n",
    "\n",
    "# 국내주식 잔고이력(STK_BNC_HIST.CSV) _ 잔고정보 (국내 주식건에 한해)\n",
    "hist = pd.read_csv('stk_bnc_hist.csv')\n",
    "\n",
    "# 국내주식 보유기간(STK_HLD_.CSV)\n",
    "test = pd.read_csv('test_0926.csv', encoding='cp949')\n",
    "train = pd.read_csv('train_0926.csv', encoding='cp949')\n",
    "\n",
    "# submission file\n",
    "submission = pd.read_csv('sample_submission.csv')"
   ]
  },
  {
   "cell_type": "code",
   "execution_count": 7,
   "id": "6340dfa0-f006-493a-9961-502829f7bcea",
   "metadata": {},
   "outputs": [],
   "source": [
    "cus.columns=[\"계좌 ID\",\"성별\",\"연령대\",\"투자성향\",\"자산구간\",\"주거래상품군\",\"Life Style\",\"서비스 등급\",\"총 투자기간\",\"주거래업종구분\"]\n",
    "iem.columns= [\"종목코드\",\"종목한글명\",\"종목업종\", \"시가총액 규모유형\",\"시장구분\"]\n",
    "hist.columns= [\"계좌 ID\",\"기준일자\",\"종목코드\",\"잔고수량\",\"잔고금액\",\"주당 액면가\"]\n",
    "train.columns=[\"계좌 ID\",\"종목코드\",\"매수일자\",\"보유기간(일)\"]\n",
    "test.columns=[\"계좌 ID\",\"종목코드\",\"매수 일자\",\"과거 보유일\",\"제출ID\",\"보유기간(일)\"]"
   ]
  }
 ],
 "metadata": {
  "kernelspec": {
   "display_name": "Python 3",
   "language": "python",
   "name": "python3"
  },
  "language_info": {
   "codemirror_mode": {
    "name": "ipython",
    "version": 3
   },
   "file_extension": ".py",
   "mimetype": "text/x-python",
   "name": "python",
   "nbconvert_exporter": "python",
   "pygments_lexer": "ipython3",
   "version": "3.6.10"
  }
 },
 "nbformat": 4,
 "nbformat_minor": 5
}
